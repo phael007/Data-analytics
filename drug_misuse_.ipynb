{
  "nbformat": 4,
  "nbformat_minor": 0,
  "metadata": {
    "colab": {
      "provenance": []
    },
    "kernelspec": {
      "name": "python3",
      "display_name": "Python 3"
    },
    "language_info": {
      "name": "python"
    }
  },
  "cells": [
    {
      "cell_type": "markdown",
      "source": [
        "According to UN World Drug Report of 2021, drugs like Cannabis and Opiods` use are on the increase and only a few of the young people see it as being harmful.\n",
        "\n",
        "These practice results into drug abuse/misuse and thereby leading to grave consequences such as addiction, intoxication and later death.\n",
        "\n",
        "Looking at a data reporting about accidental death due to drug abuse/misuse between 2012 and 2017 in Connecticut. Can we say the abusers/misusers do not understand the effect/severity of their actions, as they might not be able to make it to the hospital before they die in the case of a drug intoxication?\n",
        "\n",
        "If they are able to arrive at the hospital on time in the case of an intoxication, there are chances of survival. Is this abuse/misuse peculiar to a particular gender and age group?  What age group is the most affected by this practice?"
      ],
      "metadata": {
        "id": "TXGirou-Nb6M"
      }
    },
    {
      "cell_type": "markdown",
      "source": [
        "Importing of the Libraries to be utilized\n"
      ],
      "metadata": {
        "id": "uv1VAgOTNR4W"
      }
    },
    {
      "cell_type": "code",
      "execution_count": null,
      "metadata": {
        "id": "Xuv8fr6VPDWV"
      },
      "outputs": [],
      "source": [
        "import numpy as np\n",
        "import pandas as pd\n",
        "import seaborn as sns\n",
        "import matplotlib.pyplot as plt\n",
        "%matplotlib inline\n",
        "from sklearn.linear_model import LinearRegression\n",
        "from sklearn import preprocessing\n",
        "from sklearn.model_selection import train_test_split\n",
        "from sklearn.neighbors import KNeighborsClassifier\n",
        "from scipy import stats"
      ]
    },
    {
      "cell_type": "code",
      "source": [
        "# Load the Drive helper and mount\n",
        "from google.colab import drive\n",
        "\n",
        "# This will prompt for authorization.\n",
        "drive.mount('/content/drive')\n",
        "%cd \"/content/drive/My Drive/Colab\""
      ],
      "metadata": {
        "colab": {
          "base_uri": "https://localhost:8080/"
        },
        "id": "AbkzV9Q6YLJy",
        "outputId": "b3beb83a-f1f5-4dcb-8d79-47af023cda21"
      },
      "execution_count": null,
      "outputs": [
        {
          "output_type": "stream",
          "name": "stdout",
          "text": [
            "Drive already mounted at /content/drive; to attempt to forcibly remount, call drive.mount(\"/content/drive\", force_remount=True).\n",
            "/content/drive/My Drive/Colab\n"
          ]
        }
      ]
    },
    {
      "cell_type": "code",
      "source": [
        "ls"
      ],
      "metadata": {
        "colab": {
          "base_uri": "https://localhost:8080/"
        },
        "id": "4kT90ECwYfMS",
        "outputId": "c497f847-2f8e-4c76-852e-759fb0b75cc1"
      },
      "execution_count": null,
      "outputs": [
        {
          "output_type": "stream",
          "name": "stdout",
          "text": [
            " AB_NYC_2019.csv\n",
            "'Accidental_Drug_Related_Deaths__2012-2017 (1).csv'\n",
            "\u001b[0m\u001b[01;34m'Final Assessment (Social Media Analytics)'\u001b[0m/\n",
            "'Google Review ArikAirlineNG Extended Recipe cleaned.csv'\n",
            " titanic.csv\n",
            "'Wetland Data.csv'\n"
          ]
        }
      ]
    },
    {
      "cell_type": "markdown",
      "source": [
        "Reading of the \"Accidental_Drug_Related_Deaths__2012-2017 (1)\" dataset."
      ],
      "metadata": {
        "id": "fh4K2uzxTgGg"
      }
    },
    {
      "cell_type": "code",
      "source": [
        "DA=pd.read_csv('Accidental_Drug_Related_Deaths__2012-2017 (1).csv')\n",
        "DA.head()\n"
      ],
      "metadata": {
        "colab": {
          "base_uri": "https://localhost:8080/",
          "height": 508
        },
        "id": "KCZXhNQBY1fQ",
        "outputId": "12258489-2c8f-49ef-98d4-41e427d05dc6"
      },
      "execution_count": null,
      "outputs": [
        {
          "output_type": "execute_result",
          "data": {
            "text/plain": [
              "  CaseNumber        Date     Sex   Race   Age Residence City Residence State  \\\n",
              "0   13-16336  11/09/2013  Female  White  53.0         GROTON             NaN   \n",
              "1   12-18447  12/29/2012    Male  White  30.0        WOLCOTT             NaN   \n",
              "2    14-2758  02/18/2014    Male  White  43.0        ENFIELD             NaN   \n",
              "3   14-13497  09/07/2014  Female  White  24.0    WALLINGFORD             NaN   \n",
              "4   13-14421  10/04/2013  Female  White  26.0     WEST HAVEN             NaN   \n",
              "\n",
              "  Residence County   Death City Death State  ... Benzodiazepine Methadone  \\\n",
              "0       NEW LONDON       GROTON         NaN  ...              Y       NaN   \n",
              "1        NEW HAVEN    WATERBURY         NaN  ...            NaN       NaN   \n",
              "2              NaN      ENFIELD         NaN  ...              Y       NaN   \n",
              "3              NaN  WALLINGFORD         NaN  ...            NaN       NaN   \n",
              "4        NEW HAVEN   WEST HAVEN         NaN  ...            NaN       NaN   \n",
              "\n",
              "  Amphet Tramad Morphine (not heroin) Other Any Opioid MannerofDeath  \\\n",
              "0    NaN    NaN                   NaN   NaN        NaN      Accident   \n",
              "1    NaN    NaN                   NaN   NaN        NaN      Accident   \n",
              "2    NaN    NaN                   NaN   NaN        NaN      Accident   \n",
              "3    NaN    NaN                   NaN   NaN        NaN      Accident   \n",
              "4    NaN    NaN                   NaN   NaN        NaN      Accident   \n",
              "\n",
              "  AmendedMannerofDeath                                  DeathLoc  \n",
              "0                  NaN        GROTON, CT\\n(41.343693, -72.07877)  \n",
              "1                  NaN    WATERBURY, CT\\n(41.554261, -73.043069)  \n",
              "2                  NaN      ENFIELD, CT\\n(41.976501, -72.591985)  \n",
              "3                  NaN  WALLINGFORD, CT\\n(41.454408, -72.818414)  \n",
              "4                  NaN   WEST HAVEN, CT\\n(41.272336, -72.949817)  \n",
              "\n",
              "[5 rows x 32 columns]"
            ],
            "text/html": [
              "\n",
              "  <div id=\"df-55085269-af84-400b-bd72-54037a2ec04e\">\n",
              "    <div class=\"colab-df-container\">\n",
              "      <div>\n",
              "<style scoped>\n",
              "    .dataframe tbody tr th:only-of-type {\n",
              "        vertical-align: middle;\n",
              "    }\n",
              "\n",
              "    .dataframe tbody tr th {\n",
              "        vertical-align: top;\n",
              "    }\n",
              "\n",
              "    .dataframe thead th {\n",
              "        text-align: right;\n",
              "    }\n",
              "</style>\n",
              "<table border=\"1\" class=\"dataframe\">\n",
              "  <thead>\n",
              "    <tr style=\"text-align: right;\">\n",
              "      <th></th>\n",
              "      <th>CaseNumber</th>\n",
              "      <th>Date</th>\n",
              "      <th>Sex</th>\n",
              "      <th>Race</th>\n",
              "      <th>Age</th>\n",
              "      <th>Residence City</th>\n",
              "      <th>Residence State</th>\n",
              "      <th>Residence County</th>\n",
              "      <th>Death City</th>\n",
              "      <th>Death State</th>\n",
              "      <th>...</th>\n",
              "      <th>Benzodiazepine</th>\n",
              "      <th>Methadone</th>\n",
              "      <th>Amphet</th>\n",
              "      <th>Tramad</th>\n",
              "      <th>Morphine (not heroin)</th>\n",
              "      <th>Other</th>\n",
              "      <th>Any Opioid</th>\n",
              "      <th>MannerofDeath</th>\n",
              "      <th>AmendedMannerofDeath</th>\n",
              "      <th>DeathLoc</th>\n",
              "    </tr>\n",
              "  </thead>\n",
              "  <tbody>\n",
              "    <tr>\n",
              "      <th>0</th>\n",
              "      <td>13-16336</td>\n",
              "      <td>11/09/2013</td>\n",
              "      <td>Female</td>\n",
              "      <td>White</td>\n",
              "      <td>53.0</td>\n",
              "      <td>GROTON</td>\n",
              "      <td>NaN</td>\n",
              "      <td>NEW LONDON</td>\n",
              "      <td>GROTON</td>\n",
              "      <td>NaN</td>\n",
              "      <td>...</td>\n",
              "      <td>Y</td>\n",
              "      <td>NaN</td>\n",
              "      <td>NaN</td>\n",
              "      <td>NaN</td>\n",
              "      <td>NaN</td>\n",
              "      <td>NaN</td>\n",
              "      <td>NaN</td>\n",
              "      <td>Accident</td>\n",
              "      <td>NaN</td>\n",
              "      <td>GROTON, CT\\n(41.343693, -72.07877)</td>\n",
              "    </tr>\n",
              "    <tr>\n",
              "      <th>1</th>\n",
              "      <td>12-18447</td>\n",
              "      <td>12/29/2012</td>\n",
              "      <td>Male</td>\n",
              "      <td>White</td>\n",
              "      <td>30.0</td>\n",
              "      <td>WOLCOTT</td>\n",
              "      <td>NaN</td>\n",
              "      <td>NEW HAVEN</td>\n",
              "      <td>WATERBURY</td>\n",
              "      <td>NaN</td>\n",
              "      <td>...</td>\n",
              "      <td>NaN</td>\n",
              "      <td>NaN</td>\n",
              "      <td>NaN</td>\n",
              "      <td>NaN</td>\n",
              "      <td>NaN</td>\n",
              "      <td>NaN</td>\n",
              "      <td>NaN</td>\n",
              "      <td>Accident</td>\n",
              "      <td>NaN</td>\n",
              "      <td>WATERBURY, CT\\n(41.554261, -73.043069)</td>\n",
              "    </tr>\n",
              "    <tr>\n",
              "      <th>2</th>\n",
              "      <td>14-2758</td>\n",
              "      <td>02/18/2014</td>\n",
              "      <td>Male</td>\n",
              "      <td>White</td>\n",
              "      <td>43.0</td>\n",
              "      <td>ENFIELD</td>\n",
              "      <td>NaN</td>\n",
              "      <td>NaN</td>\n",
              "      <td>ENFIELD</td>\n",
              "      <td>NaN</td>\n",
              "      <td>...</td>\n",
              "      <td>Y</td>\n",
              "      <td>NaN</td>\n",
              "      <td>NaN</td>\n",
              "      <td>NaN</td>\n",
              "      <td>NaN</td>\n",
              "      <td>NaN</td>\n",
              "      <td>NaN</td>\n",
              "      <td>Accident</td>\n",
              "      <td>NaN</td>\n",
              "      <td>ENFIELD, CT\\n(41.976501, -72.591985)</td>\n",
              "    </tr>\n",
              "    <tr>\n",
              "      <th>3</th>\n",
              "      <td>14-13497</td>\n",
              "      <td>09/07/2014</td>\n",
              "      <td>Female</td>\n",
              "      <td>White</td>\n",
              "      <td>24.0</td>\n",
              "      <td>WALLINGFORD</td>\n",
              "      <td>NaN</td>\n",
              "      <td>NaN</td>\n",
              "      <td>WALLINGFORD</td>\n",
              "      <td>NaN</td>\n",
              "      <td>...</td>\n",
              "      <td>NaN</td>\n",
              "      <td>NaN</td>\n",
              "      <td>NaN</td>\n",
              "      <td>NaN</td>\n",
              "      <td>NaN</td>\n",
              "      <td>NaN</td>\n",
              "      <td>NaN</td>\n",
              "      <td>Accident</td>\n",
              "      <td>NaN</td>\n",
              "      <td>WALLINGFORD, CT\\n(41.454408, -72.818414)</td>\n",
              "    </tr>\n",
              "    <tr>\n",
              "      <th>4</th>\n",
              "      <td>13-14421</td>\n",
              "      <td>10/04/2013</td>\n",
              "      <td>Female</td>\n",
              "      <td>White</td>\n",
              "      <td>26.0</td>\n",
              "      <td>WEST HAVEN</td>\n",
              "      <td>NaN</td>\n",
              "      <td>NEW HAVEN</td>\n",
              "      <td>WEST HAVEN</td>\n",
              "      <td>NaN</td>\n",
              "      <td>...</td>\n",
              "      <td>NaN</td>\n",
              "      <td>NaN</td>\n",
              "      <td>NaN</td>\n",
              "      <td>NaN</td>\n",
              "      <td>NaN</td>\n",
              "      <td>NaN</td>\n",
              "      <td>NaN</td>\n",
              "      <td>Accident</td>\n",
              "      <td>NaN</td>\n",
              "      <td>WEST HAVEN, CT\\n(41.272336, -72.949817)</td>\n",
              "    </tr>\n",
              "  </tbody>\n",
              "</table>\n",
              "<p>5 rows × 32 columns</p>\n",
              "</div>\n",
              "      <button class=\"colab-df-convert\" onclick=\"convertToInteractive('df-55085269-af84-400b-bd72-54037a2ec04e')\"\n",
              "              title=\"Convert this dataframe to an interactive table.\"\n",
              "              style=\"display:none;\">\n",
              "        \n",
              "  <svg xmlns=\"http://www.w3.org/2000/svg\" height=\"24px\"viewBox=\"0 0 24 24\"\n",
              "       width=\"24px\">\n",
              "    <path d=\"M0 0h24v24H0V0z\" fill=\"none\"/>\n",
              "    <path d=\"M18.56 5.44l.94 2.06.94-2.06 2.06-.94-2.06-.94-.94-2.06-.94 2.06-2.06.94zm-11 1L8.5 8.5l.94-2.06 2.06-.94-2.06-.94L8.5 2.5l-.94 2.06-2.06.94zm10 10l.94 2.06.94-2.06 2.06-.94-2.06-.94-.94-2.06-.94 2.06-2.06.94z\"/><path d=\"M17.41 7.96l-1.37-1.37c-.4-.4-.92-.59-1.43-.59-.52 0-1.04.2-1.43.59L10.3 9.45l-7.72 7.72c-.78.78-.78 2.05 0 2.83L4 21.41c.39.39.9.59 1.41.59.51 0 1.02-.2 1.41-.59l7.78-7.78 2.81-2.81c.8-.78.8-2.07 0-2.86zM5.41 20L4 18.59l7.72-7.72 1.47 1.35L5.41 20z\"/>\n",
              "  </svg>\n",
              "      </button>\n",
              "      \n",
              "  <style>\n",
              "    .colab-df-container {\n",
              "      display:flex;\n",
              "      flex-wrap:wrap;\n",
              "      gap: 12px;\n",
              "    }\n",
              "\n",
              "    .colab-df-convert {\n",
              "      background-color: #E8F0FE;\n",
              "      border: none;\n",
              "      border-radius: 50%;\n",
              "      cursor: pointer;\n",
              "      display: none;\n",
              "      fill: #1967D2;\n",
              "      height: 32px;\n",
              "      padding: 0 0 0 0;\n",
              "      width: 32px;\n",
              "    }\n",
              "\n",
              "    .colab-df-convert:hover {\n",
              "      background-color: #E2EBFA;\n",
              "      box-shadow: 0px 1px 2px rgba(60, 64, 67, 0.3), 0px 1px 3px 1px rgba(60, 64, 67, 0.15);\n",
              "      fill: #174EA6;\n",
              "    }\n",
              "\n",
              "    [theme=dark] .colab-df-convert {\n",
              "      background-color: #3B4455;\n",
              "      fill: #D2E3FC;\n",
              "    }\n",
              "\n",
              "    [theme=dark] .colab-df-convert:hover {\n",
              "      background-color: #434B5C;\n",
              "      box-shadow: 0px 1px 3px 1px rgba(0, 0, 0, 0.15);\n",
              "      filter: drop-shadow(0px 1px 2px rgba(0, 0, 0, 0.3));\n",
              "      fill: #FFFFFF;\n",
              "    }\n",
              "  </style>\n",
              "\n",
              "      <script>\n",
              "        const buttonEl =\n",
              "          document.querySelector('#df-55085269-af84-400b-bd72-54037a2ec04e button.colab-df-convert');\n",
              "        buttonEl.style.display =\n",
              "          google.colab.kernel.accessAllowed ? 'block' : 'none';\n",
              "\n",
              "        async function convertToInteractive(key) {\n",
              "          const element = document.querySelector('#df-55085269-af84-400b-bd72-54037a2ec04e');\n",
              "          const dataTable =\n",
              "            await google.colab.kernel.invokeFunction('convertToInteractive',\n",
              "                                                     [key], {});\n",
              "          if (!dataTable) return;\n",
              "\n",
              "          const docLinkHtml = 'Like what you see? Visit the ' +\n",
              "            '<a target=\"_blank\" href=https://colab.research.google.com/notebooks/data_table.ipynb>data table notebook</a>'\n",
              "            + ' to learn more about interactive tables.';\n",
              "          element.innerHTML = '';\n",
              "          dataTable['output_type'] = 'display_data';\n",
              "          await google.colab.output.renderOutput(dataTable, element);\n",
              "          const docLink = document.createElement('div');\n",
              "          docLink.innerHTML = docLinkHtml;\n",
              "          element.appendChild(docLink);\n",
              "        }\n",
              "      </script>\n",
              "    </div>\n",
              "  </div>\n",
              "  "
            ]
          },
          "metadata": {},
          "execution_count": 450
        }
      ]
    },
    {
      "cell_type": "markdown",
      "source": [
        "Checking out if there are missing data"
      ],
      "metadata": {
        "id": "6nsea5R7UWBv"
      }
    },
    {
      "cell_type": "code",
      "source": [
        "DA.info()"
      ],
      "metadata": {
        "colab": {
          "base_uri": "https://localhost:8080/"
        },
        "id": "GNhKJOXlU9Gc",
        "outputId": "9e96adc8-aef7-47c9-80c6-ddee98fb0773"
      },
      "execution_count": null,
      "outputs": [
        {
          "output_type": "stream",
          "name": "stdout",
          "text": [
            "<class 'pandas.core.frame.DataFrame'>\n",
            "RangeIndex: 4081 entries, 0 to 4080\n",
            "Data columns (total 32 columns):\n",
            " #   Column                 Non-Null Count  Dtype  \n",
            "---  ------                 --------------  -----  \n",
            " 0   CaseNumber             4081 non-null   object \n",
            " 1   Date                   4079 non-null   object \n",
            " 2   Sex                    4077 non-null   object \n",
            " 3   Race                   4070 non-null   object \n",
            " 4   Age                    4079 non-null   float64\n",
            " 5   Residence City         3970 non-null   object \n",
            " 6   Residence State        2142 non-null   object \n",
            " 7   Residence County       3357 non-null   object \n",
            " 8   Death City             4077 non-null   object \n",
            " 9   Death State            2200 non-null   object \n",
            " 10  Death County           2899 non-null   object \n",
            " 11  Location               4059 non-null   object \n",
            " 12  DescriptionofInjury    1493 non-null   object \n",
            " 13  InjuryPlace            4002 non-null   object \n",
            " 14  ImmediateCauseA        4079 non-null   object \n",
            " 15  Heroin                 2147 non-null   object \n",
            " 16  Cocaine                1173 non-null   object \n",
            " 17  Fentanyl               1464 non-null   object \n",
            " 18  Oxycodone              531 non-null    object \n",
            " 19  Oxymorphone            97 non-null     object \n",
            " 20  EtOH                   938 non-null    object \n",
            " 21  Hydrocodone            105 non-null    object \n",
            " 22  Benzodiazepine         1029 non-null   object \n",
            " 23  Methadone              385 non-null    object \n",
            " 24  Amphet                 102 non-null    object \n",
            " 25  Tramad                 90 non-null     object \n",
            " 26  Morphine (not heroin)  56 non-null     object \n",
            " 27  Other                  355 non-null    object \n",
            " 28  Any Opioid             713 non-null    object \n",
            " 29  MannerofDeath          4074 non-null   object \n",
            " 30  AmendedMannerofDeath   538 non-null    object \n",
            " 31  DeathLoc               4081 non-null   object \n",
            "dtypes: float64(1), object(31)\n",
            "memory usage: 1020.4+ KB\n"
          ]
        }
      ]
    },
    {
      "cell_type": "code",
      "source": [
        "DA.isna().sum()"
      ],
      "metadata": {
        "colab": {
          "base_uri": "https://localhost:8080/"
        },
        "id": "mr94WIEiZg2L",
        "outputId": "67577031-d0d5-47ee-fcb3-859fd080c8c9"
      },
      "execution_count": null,
      "outputs": [
        {
          "output_type": "execute_result",
          "data": {
            "text/plain": [
              "CaseNumber                  0\n",
              "Date                        2\n",
              "Sex                         4\n",
              "Race                       11\n",
              "Age                         2\n",
              "Residence City            111\n",
              "Residence State          1939\n",
              "Residence County          724\n",
              "Death City                  4\n",
              "Death State              1881\n",
              "Death County             1182\n",
              "Location                   22\n",
              "DescriptionofInjury      2588\n",
              "InjuryPlace                79\n",
              "ImmediateCauseA             2\n",
              "Heroin                   1934\n",
              "Cocaine                  2908\n",
              "Fentanyl                 2617\n",
              "Oxycodone                3550\n",
              "Oxymorphone              3984\n",
              "EtOH                     3143\n",
              "Hydrocodone              3976\n",
              "Benzodiazepine           3052\n",
              "Methadone                3696\n",
              "Amphet                   3979\n",
              "Tramad                   3991\n",
              "Morphine (not heroin)    4025\n",
              "Other                    3726\n",
              "Any Opioid               3368\n",
              "MannerofDeath               7\n",
              "AmendedMannerofDeath     3543\n",
              "DeathLoc                    0\n",
              "dtype: int64"
            ]
          },
          "metadata": {},
          "execution_count": 452
        }
      ]
    },
    {
      "cell_type": "code",
      "source": [
        "# Every yellow line indicates true (meaning where there are null values)\n",
        "\n",
        "sns.heatmap(DA.isnull(), yticklabels=False,cbar=False,cmap='viridis')"
      ],
      "metadata": {
        "colab": {
          "base_uri": "https://localhost:8080/",
          "height": 398
        },
        "id": "wJQYgUtTaeFd",
        "outputId": "c9b10d4c-5f5b-4b4a-a7c2-c5a1b921a96f"
      },
      "execution_count": null,
      "outputs": [
        {
          "output_type": "execute_result",
          "data": {
            "text/plain": [
              "<matplotlib.axes._subplots.AxesSubplot at 0x7f7101679710>"
            ]
          },
          "metadata": {},
          "execution_count": 453
        },
        {
          "output_type": "display_data",
          "data": {
            "text/plain": [
              "<Figure size 432x288 with 1 Axes>"
            ],
            "image/png": "[encoded data removed]"
          },
          "metadata": {
            "needs_background": "light"
          }
        }
      ]
    },
    {
      "cell_type": "markdown",
      "source": [
        "**** From the plot above, we can visually see that we have a few null values in the \"Age\", \"InjuryPlace\" and \"Sex\" coloumn and a lot more null values in coloumn of drugs like \"Amphet\", \"Tramad\", \"Oxymorphone\", hence decision needs to be made on how to deal with them. The coloumns with more null values may be excluded  entirely from this analysis, since they are not the column of interest or I create dummy values (zero for no information of such coloumn or 1 for having an information for such drug coloumn). Also, I can decide to use an aggregate of the ages to fix the missing ages. Or exclude the rows that have missing \"Ages\". For the \"Sex\", I can decide to use the most common variable or ignore the rows with missing values, and same for \"InjuryPlace\""
      ],
      "metadata": {
        "id": "kxuO221fbEuI"
      }
    },
    {
      "cell_type": "markdown",
      "source": [
        "# **Exploratory Data Analysis**"
      ],
      "metadata": {
        "id": "3brlNNpunxa4"
      }
    },
    {
      "cell_type": "markdown",
      "source": [
        "Visualizing the gender that is most affected by drug abuse"
      ],
      "metadata": {
        "id": "tKjptP5le_7v"
      }
    },
    {
      "cell_type": "code",
      "source": [
        "plt.figure(figsize=(10,5))\n",
        "sns.countplot(x='Sex',data=DA)"
      ],
      "metadata": {
        "colab": {
          "base_uri": "https://localhost:8080/",
          "height": 351
        },
        "id": "Rx_9r7MKfeEe",
        "outputId": "225100d7-f023-472b-ad3f-d1d4df902c04"
      },
      "execution_count": null,
      "outputs": [
        {
          "output_type": "execute_result",
          "data": {
            "text/plain": [
              "<matplotlib.axes._subplots.AxesSubplot at 0x7f7101590090>"
            ]
          },
          "metadata": {},
          "execution_count": 454
        },
        {
          "output_type": "display_data",
          "data": {
            "text/plain": [
              "<Figure size 720x360 with 1 Axes>"
            ],
            "image/png": "[encoded data removed]"
          },
          "metadata": {
            "needs_background": "light"
          }
        }
      ]
    },
    {
      "cell_type": "markdown",
      "source": [
        "Visualizing the most affected gender across different races"
      ],
      "metadata": {
        "id": "iVKywzJvad9V"
      }
    },
    {
      "cell_type": "code",
      "source": [
        "plt.figure(figsize=(10,5))\n",
        "sns.countplot(x='Sex',hue='Race',data=DA)"
      ],
      "metadata": {
        "colab": {
          "base_uri": "https://localhost:8080/",
          "height": 351
        },
        "id": "yn3hGsI-h6_Z",
        "outputId": "756250a0-7c0e-42c0-97e2-f68c64408fc4"
      },
      "execution_count": null,
      "outputs": [
        {
          "output_type": "execute_result",
          "data": {
            "text/plain": [
              "<matplotlib.axes._subplots.AxesSubplot at 0x7f7101567ad0>"
            ]
          },
          "metadata": {},
          "execution_count": 455
        },
        {
          "output_type": "display_data",
          "data": {
            "text/plain": [
              "<Figure size 720x360 with 1 Axes>"
            ],
            "image/png": "[encoded data removed]"
          },
          "metadata": {
            "needs_background": "light"
          }
        }
      ]
    },
    {
      "cell_type": "markdown",
      "source": [
        "Age distribution of affected people across different races"
      ],
      "metadata": {
        "id": "U_ksw8CaarDf"
      }
    },
    {
      "cell_type": "code",
      "source": [
        "fig, ax = plt.subplots(1, 1, figsize=[8, 5])\n",
        "for Race in DA['Race'].unique():\n",
        "    if sum(DA['Race'] == Race) > 100:\n",
        "        sns.distplot(DA.loc[DA['Race'] == Race, 'Age'], hist=False, label=Race, ax=ax)\n",
        "ax.set_title('Age distribution of affected individuals by race')\n",
        "ax.autoscale()\n",
        "ax.legend()\n",
        "plt.show()"
      ],
      "metadata": {
        "colab": {
          "base_uri": "https://localhost:8080/",
          "height": 474
        },
        "id": "A51VytXuAja3",
        "outputId": "30db1741-8db1-4570-e946-bb53a93e8a45"
      },
      "execution_count": null,
      "outputs": [
        {
          "output_type": "stream",
          "name": "stderr",
          "text": [
            "/usr/local/lib/python3.7/dist-packages/seaborn/distributions.py:2619: FutureWarning: `distplot` is a deprecated function and will be removed in a future version. Please adapt your code to use either `displot` (a figure-level function with similar flexibility) or `kdeplot` (an axes-level function for kernel density plots).\n",
            "  warnings.warn(msg, FutureWarning)\n",
            "/usr/local/lib/python3.7/dist-packages/seaborn/distributions.py:2619: FutureWarning: `distplot` is a deprecated function and will be removed in a future version. Please adapt your code to use either `displot` (a figure-level function with similar flexibility) or `kdeplot` (an axes-level function for kernel density plots).\n",
            "  warnings.warn(msg, FutureWarning)\n",
            "/usr/local/lib/python3.7/dist-packages/seaborn/distributions.py:2619: FutureWarning: `distplot` is a deprecated function and will be removed in a future version. Please adapt your code to use either `displot` (a figure-level function with similar flexibility) or `kdeplot` (an axes-level function for kernel density plots).\n",
            "  warnings.warn(msg, FutureWarning)\n"
          ]
        },
        {
          "output_type": "display_data",
          "data": {
            "text/plain": [
              "<Figure size 576x360 with 1 Axes>"
            ],
            "image/png": "[encoded data removed]"
          },
          "metadata": {
            "needs_background": "light"
          }
        }
      ]
    },
    {
      "cell_type": "markdown",
      "source": [
        "Age grouping;\n",
        "\n",
        "Because of the large range of ages on the data, the age would be grouped\n"
      ],
      "metadata": {
        "id": "EFyG1HSz5vgo"
      }
    },
    {
      "cell_type": "code",
      "source": [
        "# Grouping the ages in ranges of \"10-19\" \"20-29\" \"30-39\" \"40-49\" \"50-59\" \"60-69\" \"70-79\" \"80+\"\n",
        "bins = [10, 20, 30, 40, 50, 60, 70, 80, np.inf]\n",
        "names = ['10-19', '20-29', '30-39', '40-49', '50-59', '60-69', '70-79', '80+']\n",
        "\n",
        "DA['Age Group'] = pd.cut(DA['Age'], bins, labels=names)\n",
        "\n",
        "print(DA.dtypes)\n",
        "DA.head()\n",
        "\n"
      ],
      "metadata": {
        "colab": {
          "base_uri": "https://localhost:8080/",
          "height": 1000
        },
        "id": "vsSXK3ojsGnW",
        "outputId": "a87ce3eb-99f4-478a-85b2-523527b7548b"
      },
      "execution_count": null,
      "outputs": [
        {
          "output_type": "stream",
          "name": "stdout",
          "text": [
            "CaseNumber                 object\n",
            "Date                       object\n",
            "Sex                        object\n",
            "Race                       object\n",
            "Age                       float64\n",
            "Residence City             object\n",
            "Residence State            object\n",
            "Residence County           object\n",
            "Death City                 object\n",
            "Death State                object\n",
            "Death County               object\n",
            "Location                   object\n",
            "DescriptionofInjury        object\n",
            "InjuryPlace                object\n",
            "ImmediateCauseA            object\n",
            "Heroin                     object\n",
            "Cocaine                    object\n",
            "Fentanyl                   object\n",
            "Oxycodone                  object\n",
            "Oxymorphone                object\n",
            "EtOH                       object\n",
            "Hydrocodone                object\n",
            "Benzodiazepine             object\n",
            "Methadone                  object\n",
            "Amphet                     object\n",
            "Tramad                     object\n",
            "Morphine (not heroin)      object\n",
            "Other                      object\n",
            "Any Opioid                 object\n",
            "MannerofDeath              object\n",
            "AmendedMannerofDeath       object\n",
            "DeathLoc                   object\n",
            "Age Group                category\n",
            "dtype: object\n"
          ]
        },
        {
          "output_type": "execute_result",
          "data": {
            "text/plain": [
              "  CaseNumber        Date     Sex   Race   Age Residence City Residence State  \\\n",
              "0   13-16336  11/09/2013  Female  White  53.0         GROTON             NaN   \n",
              "1   12-18447  12/29/2012    Male  White  30.0        WOLCOTT             NaN   \n",
              "2    14-2758  02/18/2014    Male  White  43.0        ENFIELD             NaN   \n",
              "3   14-13497  09/07/2014  Female  White  24.0    WALLINGFORD             NaN   \n",
              "4   13-14421  10/04/2013  Female  White  26.0     WEST HAVEN             NaN   \n",
              "\n",
              "  Residence County   Death City Death State  ... Methadone Amphet Tramad  \\\n",
              "0       NEW LONDON       GROTON         NaN  ...       NaN    NaN    NaN   \n",
              "1        NEW HAVEN    WATERBURY         NaN  ...       NaN    NaN    NaN   \n",
              "2              NaN      ENFIELD         NaN  ...       NaN    NaN    NaN   \n",
              "3              NaN  WALLINGFORD         NaN  ...       NaN    NaN    NaN   \n",
              "4        NEW HAVEN   WEST HAVEN         NaN  ...       NaN    NaN    NaN   \n",
              "\n",
              "  Morphine (not heroin) Other Any Opioid MannerofDeath AmendedMannerofDeath  \\\n",
              "0                   NaN   NaN        NaN      Accident                  NaN   \n",
              "1                   NaN   NaN        NaN      Accident                  NaN   \n",
              "2                   NaN   NaN        NaN      Accident                  NaN   \n",
              "3                   NaN   NaN        NaN      Accident                  NaN   \n",
              "4                   NaN   NaN        NaN      Accident                  NaN   \n",
              "\n",
              "                                   DeathLoc Age Group  \n",
              "0        GROTON, CT\\n(41.343693, -72.07877)     50-59  \n",
              "1    WATERBURY, CT\\n(41.554261, -73.043069)     20-29  \n",
              "2      ENFIELD, CT\\n(41.976501, -72.591985)     40-49  \n",
              "3  WALLINGFORD, CT\\n(41.454408, -72.818414)     20-29  \n",
              "4   WEST HAVEN, CT\\n(41.272336, -72.949817)     20-29  \n",
              "\n",
              "[5 rows x 33 columns]"
            ],
            "text/html": [
              "\n",
              "  <div id=\"df-c428b5cf-8b46-4260-a873-934919327ca7\">\n",
              "    <div class=\"colab-df-container\">\n",
              "      <div>\n",
              "<style scoped>\n",
              "    .dataframe tbody tr th:only-of-type {\n",
              "        vertical-align: middle;\n",
              "    }\n",
              "\n",
              "    .dataframe tbody tr th {\n",
              "        vertical-align: top;\n",
              "    }\n",
              "\n",
              "    .dataframe thead th {\n",
              "        text-align: right;\n",
              "    }\n",
              "</style>\n",
              "<table border=\"1\" class=\"dataframe\">\n",
              "  <thead>\n",
              "    <tr style=\"text-align: right;\">\n",
              "      <th></th>\n",
              "      <th>CaseNumber</th>\n",
              "      <th>Date</th>\n",
              "      <th>Sex</th>\n",
              "      <th>Race</th>\n",
              "      <th>Age</th>\n",
              "      <th>Residence City</th>\n",
              "      <th>Residence State</th>\n",
              "      <th>Residence County</th>\n",
              "      <th>Death City</th>\n",
              "      <th>Death State</th>\n",
              "      <th>...</th>\n",
              "      <th>Methadone</th>\n",
              "      <th>Amphet</th>\n",
              "      <th>Tramad</th>\n",
              "      <th>Morphine (not heroin)</th>\n",
              "      <th>Other</th>\n",
              "      <th>Any Opioid</th>\n",
              "      <th>MannerofDeath</th>\n",
              "      <th>AmendedMannerofDeath</th>\n",
              "      <th>DeathLoc</th>\n",
              "      <th>Age Group</th>\n",
              "    </tr>\n",
              "  </thead>\n",
              "  <tbody>\n",
              "    <tr>\n",
              "      <th>0</th>\n",
              "      <td>13-16336</td>\n",
              "      <td>11/09/2013</td>\n",
              "      <td>Female</td>\n",
              "      <td>White</td>\n",
              "      <td>53.0</td>\n",
              "      <td>GROTON</td>\n",
              "      <td>NaN</td>\n",
              "      <td>NEW LONDON</td>\n",
              "      <td>GROTON</td>\n",
              "      <td>NaN</td>\n",
              "      <td>...</td>\n",
              "      <td>NaN</td>\n",
              "      <td>NaN</td>\n",
              "      <td>NaN</td>\n",
              "      <td>NaN</td>\n",
              "      <td>NaN</td>\n",
              "      <td>NaN</td>\n",
              "      <td>Accident</td>\n",
              "      <td>NaN</td>\n",
              "      <td>GROTON, CT\\n(41.343693, -72.07877)</td>\n",
              "      <td>50-59</td>\n",
              "    </tr>\n",
              "    <tr>\n",
              "      <th>1</th>\n",
              "      <td>12-18447</td>\n",
              "      <td>12/29/2012</td>\n",
              "      <td>Male</td>\n",
              "      <td>White</td>\n",
              "      <td>30.0</td>\n",
              "      <td>WOLCOTT</td>\n",
              "      <td>NaN</td>\n",
              "      <td>NEW HAVEN</td>\n",
              "      <td>WATERBURY</td>\n",
              "      <td>NaN</td>\n",
              "      <td>...</td>\n",
              "      <td>NaN</td>\n",
              "      <td>NaN</td>\n",
              "      <td>NaN</td>\n",
              "      <td>NaN</td>\n",
              "      <td>NaN</td>\n",
              "      <td>NaN</td>\n",
              "      <td>Accident</td>\n",
              "      <td>NaN</td>\n",
              "      <td>WATERBURY, CT\\n(41.554261, -73.043069)</td>\n",
              "      <td>20-29</td>\n",
              "    </tr>\n",
              "    <tr>\n",
              "      <th>2</th>\n",
              "      <td>14-2758</td>\n",
              "      <td>02/18/2014</td>\n",
              "      <td>Male</td>\n",
              "      <td>White</td>\n",
              "      <td>43.0</td>\n",
              "      <td>ENFIELD</td>\n",
              "      <td>NaN</td>\n",
              "      <td>NaN</td>\n",
              "      <td>ENFIELD</td>\n",
              "      <td>NaN</td>\n",
              "      <td>...</td>\n",
              "      <td>NaN</td>\n",
              "      <td>NaN</td>\n",
              "      <td>NaN</td>\n",
              "      <td>NaN</td>\n",
              "      <td>NaN</td>\n",
              "      <td>NaN</td>\n",
              "      <td>Accident</td>\n",
              "      <td>NaN</td>\n",
              "      <td>ENFIELD, CT\\n(41.976501, -72.591985)</td>\n",
              "      <td>40-49</td>\n",
              "    </tr>\n",
              "    <tr>\n",
              "      <th>3</th>\n",
              "      <td>14-13497</td>\n",
              "      <td>09/07/2014</td>\n",
              "      <td>Female</td>\n",
              "      <td>White</td>\n",
              "      <td>24.0</td>\n",
              "      <td>WALLINGFORD</td>\n",
              "      <td>NaN</td>\n",
              "      <td>NaN</td>\n",
              "      <td>WALLINGFORD</td>\n",
              "      <td>NaN</td>\n",
              "      <td>...</td>\n",
              "      <td>NaN</td>\n",
              "      <td>NaN</td>\n",
              "      <td>NaN</td>\n",
              "      <td>NaN</td>\n",
              "      <td>NaN</td>\n",
              "      <td>NaN</td>\n",
              "      <td>Accident</td>\n",
              "      <td>NaN</td>\n",
              "      <td>WALLINGFORD, CT\\n(41.454408, -72.818414)</td>\n",
              "      <td>20-29</td>\n",
              "    </tr>\n",
              "    <tr>\n",
              "      <th>4</th>\n",
              "      <td>13-14421</td>\n",
              "      <td>10/04/2013</td>\n",
              "      <td>Female</td>\n",
              "      <td>White</td>\n",
              "      <td>26.0</td>\n",
              "      <td>WEST HAVEN</td>\n",
              "      <td>NaN</td>\n",
              "      <td>NEW HAVEN</td>\n",
              "      <td>WEST HAVEN</td>\n",
              "      <td>NaN</td>\n",
              "      <td>...</td>\n",
              "      <td>NaN</td>\n",
              "      <td>NaN</td>\n",
              "      <td>NaN</td>\n",
              "      <td>NaN</td>\n",
              "      <td>NaN</td>\n",
              "      <td>NaN</td>\n",
              "      <td>Accident</td>\n",
              "      <td>NaN</td>\n",
              "      <td>WEST HAVEN, CT\\n(41.272336, -72.949817)</td>\n",
              "      <td>20-29</td>\n",
              "    </tr>\n",
              "  </tbody>\n",
              "</table>\n",
              "<p>5 rows × 33 columns</p>\n",
              "</div>\n",
              "      <button class=\"colab-df-convert\" onclick=\"convertToInteractive('df-c428b5cf-8b46-4260-a873-934919327ca7')\"\n",
              "              title=\"Convert this dataframe to an interactive table.\"\n",
              "              style=\"display:none;\">\n",
              "        \n",
              "  <svg xmlns=\"http://www.w3.org/2000/svg\" height=\"24px\"viewBox=\"0 0 24 24\"\n",
              "       width=\"24px\">\n",
              "    <path d=\"M0 0h24v24H0V0z\" fill=\"none\"/>\n",
              "    <path d=\"M18.56 5.44l.94 2.06.94-2.06 2.06-.94-2.06-.94-.94-2.06-.94 2.06-2.06.94zm-11 1L8.5 8.5l.94-2.06 2.06-.94-2.06-.94L8.5 2.5l-.94 2.06-2.06.94zm10 10l.94 2.06.94-2.06 2.06-.94-2.06-.94-.94-2.06-.94 2.06-2.06.94z\"/><path d=\"M17.41 7.96l-1.37-1.37c-.4-.4-.92-.59-1.43-.59-.52 0-1.04.2-1.43.59L10.3 9.45l-7.72 7.72c-.78.78-.78 2.05 0 2.83L4 21.41c.39.39.9.59 1.41.59.51 0 1.02-.2 1.41-.59l7.78-7.78 2.81-2.81c.8-.78.8-2.07 0-2.86zM5.41 20L4 18.59l7.72-7.72 1.47 1.35L5.41 20z\"/>\n",
              "  </svg>\n",
              "      </button>\n",
              "      \n",
              "  <style>\n",
              "    .colab-df-container {\n",
              "      display:flex;\n",
              "      flex-wrap:wrap;\n",
              "      gap: 12px;\n",
              "    }\n",
              "\n",
              "    .colab-df-convert {\n",
              "      background-color: #E8F0FE;\n",
              "      border: none;\n",
              "      border-radius: 50%;\n",
              "      cursor: pointer;\n",
              "      display: none;\n",
              "      fill: #1967D2;\n",
              "      height: 32px;\n",
              "      padding: 0 0 0 0;\n",
              "      width: 32px;\n",
              "    }\n",
              "\n",
              "    .colab-df-convert:hover {\n",
              "      background-color: #E2EBFA;\n",
              "      box-shadow: 0px 1px 2px rgba(60, 64, 67, 0.3), 0px 1px 3px 1px rgba(60, 64, 67, 0.15);\n",
              "      fill: #174EA6;\n",
              "    }\n",
              "\n",
              "    [theme=dark] .colab-df-convert {\n",
              "      background-color: #3B4455;\n",
              "      fill: #D2E3FC;\n",
              "    }\n",
              "\n",
              "    [theme=dark] .colab-df-convert:hover {\n",
              "      background-color: #434B5C;\n",
              "      box-shadow: 0px 1px 3px 1px rgba(0, 0, 0, 0.15);\n",
              "      filter: drop-shadow(0px 1px 2px rgba(0, 0, 0, 0.3));\n",
              "      fill: #FFFFFF;\n",
              "    }\n",
              "  </style>\n",
              "\n",
              "      <script>\n",
              "        const buttonEl =\n",
              "          document.querySelector('#df-c428b5cf-8b46-4260-a873-934919327ca7 button.colab-df-convert');\n",
              "        buttonEl.style.display =\n",
              "          google.colab.kernel.accessAllowed ? 'block' : 'none';\n",
              "\n",
              "        async function convertToInteractive(key) {\n",
              "          const element = document.querySelector('#df-c428b5cf-8b46-4260-a873-934919327ca7');\n",
              "          const dataTable =\n",
              "            await google.colab.kernel.invokeFunction('convertToInteractive',\n",
              "                                                     [key], {});\n",
              "          if (!dataTable) return;\n",
              "\n",
              "          const docLinkHtml = 'Like what you see? Visit the ' +\n",
              "            '<a target=\"_blank\" href=https://colab.research.google.com/notebooks/data_table.ipynb>data table notebook</a>'\n",
              "            + ' to learn more about interactive tables.';\n",
              "          element.innerHTML = '';\n",
              "          dataTable['output_type'] = 'display_data';\n",
              "          await google.colab.output.renderOutput(dataTable, element);\n",
              "          const docLink = document.createElement('div');\n",
              "          docLink.innerHTML = docLinkHtml;\n",
              "          element.appendChild(docLink);\n",
              "        }\n",
              "      </script>\n",
              "    </div>\n",
              "  </div>\n",
              "  "
            ]
          },
          "metadata": {},
          "execution_count": 457
        }
      ]
    },
    {
      "cell_type": "markdown",
      "source": [
        "Visualization of the affected age groups"
      ],
      "metadata": {
        "id": "tT8tuiwSbGT-"
      }
    },
    {
      "cell_type": "code",
      "source": [
        "plt.figure(figsize=(10,5))\n",
        "sns.countplot(x='Age Group',data=DA)"
      ],
      "metadata": {
        "colab": {
          "base_uri": "https://localhost:8080/",
          "height": 351
        },
        "id": "rdn9bi1H44VD",
        "outputId": "5648618b-e9df-4bc9-d1c8-0f54ece02266"
      },
      "execution_count": null,
      "outputs": [
        {
          "output_type": "execute_result",
          "data": {
            "text/plain": [
              "<matplotlib.axes._subplots.AxesSubplot at 0x7f71014ad810>"
            ]
          },
          "metadata": {},
          "execution_count": 458
        },
        {
          "output_type": "display_data",
          "data": {
            "text/plain": [
              "<Figure size 720x360 with 1 Axes>"
            ],
            "image/png": "[encoded data removed]"
          },
          "metadata": {
            "needs_background": "light"
          }
        }
      ]
    },
    {
      "cell_type": "markdown",
      "source": [
        "Visualization of the affected age groups for both genders"
      ],
      "metadata": {
        "id": "_vqcR9BjbSFM"
      }
    },
    {
      "cell_type": "code",
      "source": [
        "plt.figure(figsize=(10,5))\n",
        "sns.countplot(x='Sex',hue='Age Group',data=DA)"
      ],
      "metadata": {
        "colab": {
          "base_uri": "https://localhost:8080/",
          "height": 353
        },
        "id": "UIoVRzJ_2eSZ",
        "outputId": "df7d9a50-f33d-428a-f4ff-768a0657cfad"
      },
      "execution_count": null,
      "outputs": [
        {
          "output_type": "execute_result",
          "data": {
            "text/plain": [
              "<matplotlib.axes._subplots.AxesSubplot at 0x7f71013bc8d0>"
            ]
          },
          "metadata": {},
          "execution_count": 459
        },
        {
          "output_type": "display_data",
          "data": {
            "text/plain": [
              "<Figure size 720x360 with 1 Axes>"
            ],
            "image/png": "[encoded data removed]"
          },
          "metadata": {
            "needs_background": "light"
          }
        }
      ]
    },
    {
      "cell_type": "markdown",
      "source": [
        "Visualization of death from drug abuse between 2012 and 2017"
      ],
      "metadata": {
        "id": "iVRm7kduo6WI"
      }
    },
    {
      "cell_type": "code",
      "source": [
        "DA['Date'] = pd.to_datetime(DA['Date'], infer_datetime_format=True)\n",
        "DA['Year'] = DA['Date'].dt.year\n",
        "DA['Year_month'] = DA['Date'].dt.to_period('M')"
      ],
      "metadata": {
        "id": "16jlQLVFhnrW"
      },
      "execution_count": null,
      "outputs": []
    },
    {
      "cell_type": "code",
      "source": [
        "annual_deaths = DA.groupby('Year_month')['Date'].count()\n",
        "\n",
        "fig, ax = plt.subplots(1, 1, figsize=[10, 5])\n",
        "lr = LinearRegression().fit(pd.to_numeric(annual_deaths.index).values.reshape(-1, 1),\n",
        "                            annual_deaths.values.reshape(-1, 1))\n",
        "trendline = lr.predict(pd.to_numeric(annual_deaths.index).values.reshape(-1, 1))\n",
        "annual_deaths.plot(ax=ax, marker='o', ls='-', alpha=.9, markersize=5, color='r', label='Monthly deaths')\n",
        "ax.plot(annual_deaths.index, trendline, ls=':', color='k', label='Trendline')\n",
        "ax.set_ylabel('Total deaths')\n",
        "ax.set_xlabel('Time')\n",
        "ax.set_title('Number of people affected annually')\n",
        "ax.legend()\n",
        "plt.show()"
      ],
      "metadata": {
        "colab": {
          "base_uri": "https://localhost:8080/",
          "height": 350
        },
        "id": "vZwoO9EYEoKq",
        "outputId": "9fee79db-2256-4651-c35d-1f1672a1e9be"
      },
      "execution_count": null,
      "outputs": [
        {
          "output_type": "display_data",
          "data": {
            "text/plain": [
              "<Figure size 720x360 with 1 Axes>"
            ],
            "image/png": "[encoded data removed]"
          },
          "metadata": {
            "needs_background": "light"
          }
        }
      ]
    },
    {
      "cell_type": "markdown",
      "source": [
        "### *** From the above plots, it can be said that the menace is getting worse by the years while it is common in the male gender than the female gender. However, age group most affected differs to gender. To predict the chances of getting to a hospital in the case of intoxication, further analysis on this data would be done, exploring KNN and Decision Tree machine learning algorithm."
      ],
      "metadata": {
        "id": "s9aNIIpujP2E"
      }
    },
    {
      "cell_type": "markdown",
      "source": [
        "# **Data Preprocessing**"
      ],
      "metadata": {
        "id": "FxSJCuZEovEX"
      }
    },
    {
      "cell_type": "markdown",
      "source": [
        "Data Cleaning & Transformation"
      ],
      "metadata": {
        "id": "8cRElZIOdD0g"
      }
    },
    {
      "cell_type": "code",
      "source": [
        "DA.head()"
      ],
      "metadata": {
        "colab": {
          "base_uri": "https://localhost:8080/",
          "height": 508
        },
        "id": "VMp7lsOCdVw2",
        "outputId": "eaf9a5fc-9365-45e8-c7fd-86589ba18ef7"
      },
      "execution_count": null,
      "outputs": [
        {
          "output_type": "execute_result",
          "data": {
            "text/plain": [
              "  CaseNumber       Date     Sex   Race   Age Residence City Residence State  \\\n",
              "0   13-16336 2013-11-09  Female  White  53.0         GROTON             NaN   \n",
              "1   12-18447 2012-12-29    Male  White  30.0        WOLCOTT             NaN   \n",
              "2    14-2758 2014-02-18    Male  White  43.0        ENFIELD             NaN   \n",
              "3   14-13497 2014-09-07  Female  White  24.0    WALLINGFORD             NaN   \n",
              "4   13-14421 2013-10-04  Female  White  26.0     WEST HAVEN             NaN   \n",
              "\n",
              "  Residence County   Death City Death State  ... Tramad Morphine (not heroin)  \\\n",
              "0       NEW LONDON       GROTON         NaN  ...    NaN                   NaN   \n",
              "1        NEW HAVEN    WATERBURY         NaN  ...    NaN                   NaN   \n",
              "2              NaN      ENFIELD         NaN  ...    NaN                   NaN   \n",
              "3              NaN  WALLINGFORD         NaN  ...    NaN                   NaN   \n",
              "4        NEW HAVEN   WEST HAVEN         NaN  ...    NaN                   NaN   \n",
              "\n",
              "  Other Any Opioid MannerofDeath AmendedMannerofDeath  \\\n",
              "0   NaN        NaN      Accident                  NaN   \n",
              "1   NaN        NaN      Accident                  NaN   \n",
              "2   NaN        NaN      Accident                  NaN   \n",
              "3   NaN        NaN      Accident                  NaN   \n",
              "4   NaN        NaN      Accident                  NaN   \n",
              "\n",
              "                                   DeathLoc Age Group    Year Year_month  \n",
              "0        GROTON, CT\\n(41.343693, -72.07877)     50-59  2013.0    2013-11  \n",
              "1    WATERBURY, CT\\n(41.554261, -73.043069)     20-29  2012.0    2012-12  \n",
              "2      ENFIELD, CT\\n(41.976501, -72.591985)     40-49  2014.0    2014-02  \n",
              "3  WALLINGFORD, CT\\n(41.454408, -72.818414)     20-29  2014.0    2014-09  \n",
              "4   WEST HAVEN, CT\\n(41.272336, -72.949817)     20-29  2013.0    2013-10  \n",
              "\n",
              "[5 rows x 35 columns]"
            ],
            "text/html": [
              "\n",
              "  <div id=\"df-0607160f-04de-4e91-accf-a09eb1ccc63c\">\n",
              "    <div class=\"colab-df-container\">\n",
              "      <div>\n",
              "<style scoped>\n",
              "    .dataframe tbody tr th:only-of-type {\n",
              "        vertical-align: middle;\n",
              "    }\n",
              "\n",
              "    .dataframe tbody tr th {\n",
              "        vertical-align: top;\n",
              "    }\n",
              "\n",
              "    .dataframe thead th {\n",
              "        text-align: right;\n",
              "    }\n",
              "</style>\n",
              "<table border=\"1\" class=\"dataframe\">\n",
              "  <thead>\n",
              "    <tr style=\"text-align: right;\">\n",
              "      <th></th>\n",
              "      <th>CaseNumber</th>\n",
              "      <th>Date</th>\n",
              "      <th>Sex</th>\n",
              "      <th>Race</th>\n",
              "      <th>Age</th>\n",
              "      <th>Residence City</th>\n",
              "      <th>Residence State</th>\n",
              "      <th>Residence County</th>\n",
              "      <th>Death City</th>\n",
              "      <th>Death State</th>\n",
              "      <th>...</th>\n",
              "      <th>Tramad</th>\n",
              "      <th>Morphine (not heroin)</th>\n",
              "      <th>Other</th>\n",
              "      <th>Any Opioid</th>\n",
              "      <th>MannerofDeath</th>\n",
              "      <th>AmendedMannerofDeath</th>\n",
              "      <th>DeathLoc</th>\n",
              "      <th>Age Group</th>\n",
              "      <th>Year</th>\n",
              "      <th>Year_month</th>\n",
              "    </tr>\n",
              "  </thead>\n",
              "  <tbody>\n",
              "    <tr>\n",
              "      <th>0</th>\n",
              "      <td>13-16336</td>\n",
              "      <td>2013-11-09</td>\n",
              "      <td>Female</td>\n",
              "      <td>White</td>\n",
              "      <td>53.0</td>\n",
              "      <td>GROTON</td>\n",
              "      <td>NaN</td>\n",
              "      <td>NEW LONDON</td>\n",
              "      <td>GROTON</td>\n",
              "      <td>NaN</td>\n",
              "      <td>...</td>\n",
              "      <td>NaN</td>\n",
              "      <td>NaN</td>\n",
              "      <td>NaN</td>\n",
              "      <td>NaN</td>\n",
              "      <td>Accident</td>\n",
              "      <td>NaN</td>\n",
              "      <td>GROTON, CT\\n(41.343693, -72.07877)</td>\n",
              "      <td>50-59</td>\n",
              "      <td>2013.0</td>\n",
              "      <td>2013-11</td>\n",
              "    </tr>\n",
              "    <tr>\n",
              "      <th>1</th>\n",
              "      <td>12-18447</td>\n",
              "      <td>2012-12-29</td>\n",
              "      <td>Male</td>\n",
              "      <td>White</td>\n",
              "      <td>30.0</td>\n",
              "      <td>WOLCOTT</td>\n",
              "      <td>NaN</td>\n",
              "      <td>NEW HAVEN</td>\n",
              "      <td>WATERBURY</td>\n",
              "      <td>NaN</td>\n",
              "      <td>...</td>\n",
              "      <td>NaN</td>\n",
              "      <td>NaN</td>\n",
              "      <td>NaN</td>\n",
              "      <td>NaN</td>\n",
              "      <td>Accident</td>\n",
              "      <td>NaN</td>\n",
              "      <td>WATERBURY, CT\\n(41.554261, -73.043069)</td>\n",
              "      <td>20-29</td>\n",
              "      <td>2012.0</td>\n",
              "      <td>2012-12</td>\n",
              "    </tr>\n",
              "    <tr>\n",
              "      <th>2</th>\n",
              "      <td>14-2758</td>\n",
              "      <td>2014-02-18</td>\n",
              "      <td>Male</td>\n",
              "      <td>White</td>\n",
              "      <td>43.0</td>\n",
              "      <td>ENFIELD</td>\n",
              "      <td>NaN</td>\n",
              "      <td>NaN</td>\n",
              "      <td>ENFIELD</td>\n",
              "      <td>NaN</td>\n",
              "      <td>...</td>\n",
              "      <td>NaN</td>\n",
              "      <td>NaN</td>\n",
              "      <td>NaN</td>\n",
              "      <td>NaN</td>\n",
              "      <td>Accident</td>\n",
              "      <td>NaN</td>\n",
              "      <td>ENFIELD, CT\\n(41.976501, -72.591985)</td>\n",
              "      <td>40-49</td>\n",
              "      <td>2014.0</td>\n",
              "      <td>2014-02</td>\n",
              "    </tr>\n",
              "    <tr>\n",
              "      <th>3</th>\n",
              "      <td>14-13497</td>\n",
              "      <td>2014-09-07</td>\n",
              "      <td>Female</td>\n",
              "      <td>White</td>\n",
              "      <td>24.0</td>\n",
              "      <td>WALLINGFORD</td>\n",
              "      <td>NaN</td>\n",
              "      <td>NaN</td>\n",
              "      <td>WALLINGFORD</td>\n",
              "      <td>NaN</td>\n",
              "      <td>...</td>\n",
              "      <td>NaN</td>\n",
              "      <td>NaN</td>\n",
              "      <td>NaN</td>\n",
              "      <td>NaN</td>\n",
              "      <td>Accident</td>\n",
              "      <td>NaN</td>\n",
              "      <td>WALLINGFORD, CT\\n(41.454408, -72.818414)</td>\n",
              "      <td>20-29</td>\n",
              "      <td>2014.0</td>\n",
              "      <td>2014-09</td>\n",
              "    </tr>\n",
              "    <tr>\n",
              "      <th>4</th>\n",
              "      <td>13-14421</td>\n",
              "      <td>2013-10-04</td>\n",
              "      <td>Female</td>\n",
              "      <td>White</td>\n",
              "      <td>26.0</td>\n",
              "      <td>WEST HAVEN</td>\n",
              "      <td>NaN</td>\n",
              "      <td>NEW HAVEN</td>\n",
              "      <td>WEST HAVEN</td>\n",
              "      <td>NaN</td>\n",
              "      <td>...</td>\n",
              "      <td>NaN</td>\n",
              "      <td>NaN</td>\n",
              "      <td>NaN</td>\n",
              "      <td>NaN</td>\n",
              "      <td>Accident</td>\n",
              "      <td>NaN</td>\n",
              "      <td>WEST HAVEN, CT\\n(41.272336, -72.949817)</td>\n",
              "      <td>20-29</td>\n",
              "      <td>2013.0</td>\n",
              "      <td>2013-10</td>\n",
              "    </tr>\n",
              "  </tbody>\n",
              "</table>\n",
              "<p>5 rows × 35 columns</p>\n",
              "</div>\n",
              "      <button class=\"colab-df-convert\" onclick=\"convertToInteractive('df-0607160f-04de-4e91-accf-a09eb1ccc63c')\"\n",
              "              title=\"Convert this dataframe to an interactive table.\"\n",
              "              style=\"display:none;\">\n",
              "        \n",
              "  <svg xmlns=\"http://www.w3.org/2000/svg\" height=\"24px\"viewBox=\"0 0 24 24\"\n",
              "       width=\"24px\">\n",
              "    <path d=\"M0 0h24v24H0V0z\" fill=\"none\"/>\n",
              "    <path d=\"M18.56 5.44l.94 2.06.94-2.06 2.06-.94-2.06-.94-.94-2.06-.94 2.06-2.06.94zm-11 1L8.5 8.5l.94-2.06 2.06-.94-2.06-.94L8.5 2.5l-.94 2.06-2.06.94zm10 10l.94 2.06.94-2.06 2.06-.94-2.06-.94-.94-2.06-.94 2.06-2.06.94z\"/><path d=\"M17.41 7.96l-1.37-1.37c-.4-.4-.92-.59-1.43-.59-.52 0-1.04.2-1.43.59L10.3 9.45l-7.72 7.72c-.78.78-.78 2.05 0 2.83L4 21.41c.39.39.9.59 1.41.59.51 0 1.02-.2 1.41-.59l7.78-7.78 2.81-2.81c.8-.78.8-2.07 0-2.86zM5.41 20L4 18.59l7.72-7.72 1.47 1.35L5.41 20z\"/>\n",
              "  </svg>\n",
              "      </button>\n",
              "      \n",
              "  <style>\n",
              "    .colab-df-container {\n",
              "      display:flex;\n",
              "      flex-wrap:wrap;\n",
              "      gap: 12px;\n",
              "    }\n",
              "\n",
              "    .colab-df-convert {\n",
              "      background-color: #E8F0FE;\n",
              "      border: none;\n",
              "      border-radius: 50%;\n",
              "      cursor: pointer;\n",
              "      display: none;\n",
              "      fill: #1967D2;\n",
              "      height: 32px;\n",
              "      padding: 0 0 0 0;\n",
              "      width: 32px;\n",
              "    }\n",
              "\n",
              "    .colab-df-convert:hover {\n",
              "      background-color: #E2EBFA;\n",
              "      box-shadow: 0px 1px 2px rgba(60, 64, 67, 0.3), 0px 1px 3px 1px rgba(60, 64, 67, 0.15);\n",
              "      fill: #174EA6;\n",
              "    }\n",
              "\n",
              "    [theme=dark] .colab-df-convert {\n",
              "      background-color: #3B4455;\n",
              "      fill: #D2E3FC;\n",
              "    }\n",
              "\n",
              "    [theme=dark] .colab-df-convert:hover {\n",
              "      background-color: #434B5C;\n",
              "      box-shadow: 0px 1px 3px 1px rgba(0, 0, 0, 0.15);\n",
              "      filter: drop-shadow(0px 1px 2px rgba(0, 0, 0, 0.3));\n",
              "      fill: #FFFFFF;\n",
              "    }\n",
              "  </style>\n",
              "\n",
              "      <script>\n",
              "        const buttonEl =\n",
              "          document.querySelector('#df-0607160f-04de-4e91-accf-a09eb1ccc63c button.colab-df-convert');\n",
              "        buttonEl.style.display =\n",
              "          google.colab.kernel.accessAllowed ? 'block' : 'none';\n",
              "\n",
              "        async function convertToInteractive(key) {\n",
              "          const element = document.querySelector('#df-0607160f-04de-4e91-accf-a09eb1ccc63c');\n",
              "          const dataTable =\n",
              "            await google.colab.kernel.invokeFunction('convertToInteractive',\n",
              "                                                     [key], {});\n",
              "          if (!dataTable) return;\n",
              "\n",
              "          const docLinkHtml = 'Like what you see? Visit the ' +\n",
              "            '<a target=\"_blank\" href=https://colab.research.google.com/notebooks/data_table.ipynb>data table notebook</a>'\n",
              "            + ' to learn more about interactive tables.';\n",
              "          element.innerHTML = '';\n",
              "          dataTable['output_type'] = 'display_data';\n",
              "          await google.colab.output.renderOutput(dataTable, element);\n",
              "          const docLink = document.createElement('div');\n",
              "          docLink.innerHTML = docLinkHtml;\n",
              "          element.appendChild(docLink);\n",
              "        }\n",
              "      </script>\n",
              "    </div>\n",
              "  </div>\n",
              "  "
            ]
          },
          "metadata": {},
          "execution_count": 462
        }
      ]
    },
    {
      "cell_type": "markdown",
      "source": [
        "Redefining the dataframe into the only needed variables"
      ],
      "metadata": {
        "id": "3attiCu9q_0U"
      }
    },
    {
      "cell_type": "code",
      "source": [
        "DA = DA[['Date', 'Sex', 'Race', 'Age', 'Age Group', 'InjuryPlace', 'Location', 'Year', 'Year_month']]\n",
        "DA.head()"
      ],
      "metadata": {
        "colab": {
          "base_uri": "https://localhost:8080/",
          "height": 206
        },
        "id": "nMVDzTwbloRl",
        "outputId": "fd98ffbe-a0dc-4d8b-90b2-5c7f3d364d2f"
      },
      "execution_count": null,
      "outputs": [
        {
          "output_type": "execute_result",
          "data": {
            "text/plain": [
              "        Date     Sex   Race   Age Age Group           InjuryPlace   Location  \\\n",
              "0 2013-11-09  Female  White  53.0     50-59                   NaN  Residence   \n",
              "1 2012-12-29    Male  White  30.0     20-29             Residence   Hospital   \n",
              "2 2014-02-18    Male  White  43.0     40-49             Residence  Residence   \n",
              "3 2014-09-07  Female  White  24.0     20-29             Residence  Residence   \n",
              "4 2013-10-04  Female  White  26.0     20-29  Residential Building      Other   \n",
              "\n",
              "     Year Year_month  \n",
              "0  2013.0    2013-11  \n",
              "1  2012.0    2012-12  \n",
              "2  2014.0    2014-02  \n",
              "3  2014.0    2014-09  \n",
              "4  2013.0    2013-10  "
            ],
            "text/html": [
              "\n",
              "  <div id=\"df-280af518-932e-4543-b892-4c802d05b9df\">\n",
              "    <div class=\"colab-df-container\">\n",
              "      <div>\n",
              "<style scoped>\n",
              "    .dataframe tbody tr th:only-of-type {\n",
              "        vertical-align: middle;\n",
              "    }\n",
              "\n",
              "    .dataframe tbody tr th {\n",
              "        vertical-align: top;\n",
              "    }\n",
              "\n",
              "    .dataframe thead th {\n",
              "        text-align: right;\n",
              "    }\n",
              "</style>\n",
              "<table border=\"1\" class=\"dataframe\">\n",
              "  <thead>\n",
              "    <tr style=\"text-align: right;\">\n",
              "      <th></th>\n",
              "      <th>Date</th>\n",
              "      <th>Sex</th>\n",
              "      <th>Race</th>\n",
              "      <th>Age</th>\n",
              "      <th>Age Group</th>\n",
              "      <th>InjuryPlace</th>\n",
              "      <th>Location</th>\n",
              "      <th>Year</th>\n",
              "      <th>Year_month</th>\n",
              "    </tr>\n",
              "  </thead>\n",
              "  <tbody>\n",
              "    <tr>\n",
              "      <th>0</th>\n",
              "      <td>2013-11-09</td>\n",
              "      <td>Female</td>\n",
              "      <td>White</td>\n",
              "      <td>53.0</td>\n",
              "      <td>50-59</td>\n",
              "      <td>NaN</td>\n",
              "      <td>Residence</td>\n",
              "      <td>2013.0</td>\n",
              "      <td>2013-11</td>\n",
              "    </tr>\n",
              "    <tr>\n",
              "      <th>1</th>\n",
              "      <td>2012-12-29</td>\n",
              "      <td>Male</td>\n",
              "      <td>White</td>\n",
              "      <td>30.0</td>\n",
              "      <td>20-29</td>\n",
              "      <td>Residence</td>\n",
              "      <td>Hospital</td>\n",
              "      <td>2012.0</td>\n",
              "      <td>2012-12</td>\n",
              "    </tr>\n",
              "    <tr>\n",
              "      <th>2</th>\n",
              "      <td>2014-02-18</td>\n",
              "      <td>Male</td>\n",
              "      <td>White</td>\n",
              "      <td>43.0</td>\n",
              "      <td>40-49</td>\n",
              "      <td>Residence</td>\n",
              "      <td>Residence</td>\n",
              "      <td>2014.0</td>\n",
              "      <td>2014-02</td>\n",
              "    </tr>\n",
              "    <tr>\n",
              "      <th>3</th>\n",
              "      <td>2014-09-07</td>\n",
              "      <td>Female</td>\n",
              "      <td>White</td>\n",
              "      <td>24.0</td>\n",
              "      <td>20-29</td>\n",
              "      <td>Residence</td>\n",
              "      <td>Residence</td>\n",
              "      <td>2014.0</td>\n",
              "      <td>2014-09</td>\n",
              "    </tr>\n",
              "    <tr>\n",
              "      <th>4</th>\n",
              "      <td>2013-10-04</td>\n",
              "      <td>Female</td>\n",
              "      <td>White</td>\n",
              "      <td>26.0</td>\n",
              "      <td>20-29</td>\n",
              "      <td>Residential Building</td>\n",
              "      <td>Other</td>\n",
              "      <td>2013.0</td>\n",
              "      <td>2013-10</td>\n",
              "    </tr>\n",
              "  </tbody>\n",
              "</table>\n",
              "</div>\n",
              "      <button class=\"colab-df-convert\" onclick=\"convertToInteractive('df-280af518-932e-4543-b892-4c802d05b9df')\"\n",
              "              title=\"Convert this dataframe to an interactive table.\"\n",
              "              style=\"display:none;\">\n",
              "        \n",
              "  <svg xmlns=\"http://www.w3.org/2000/svg\" height=\"24px\"viewBox=\"0 0 24 24\"\n",
              "       width=\"24px\">\n",
              "    <path d=\"M0 0h24v24H0V0z\" fill=\"none\"/>\n",
              "    <path d=\"M18.56 5.44l.94 2.06.94-2.06 2.06-.94-2.06-.94-.94-2.06-.94 2.06-2.06.94zm-11 1L8.5 8.5l.94-2.06 2.06-.94-2.06-.94L8.5 2.5l-.94 2.06-2.06.94zm10 10l.94 2.06.94-2.06 2.06-.94-2.06-.94-.94-2.06-.94 2.06-2.06.94z\"/><path d=\"M17.41 7.96l-1.37-1.37c-.4-.4-.92-.59-1.43-.59-.52 0-1.04.2-1.43.59L10.3 9.45l-7.72 7.72c-.78.78-.78 2.05 0 2.83L4 21.41c.39.39.9.59 1.41.59.51 0 1.02-.2 1.41-.59l7.78-7.78 2.81-2.81c.8-.78.8-2.07 0-2.86zM5.41 20L4 18.59l7.72-7.72 1.47 1.35L5.41 20z\"/>\n",
              "  </svg>\n",
              "      </button>\n",
              "      \n",
              "  <style>\n",
              "    .colab-df-container {\n",
              "      display:flex;\n",
              "      flex-wrap:wrap;\n",
              "      gap: 12px;\n",
              "    }\n",
              "\n",
              "    .colab-df-convert {\n",
              "      background-color: #E8F0FE;\n",
              "      border: none;\n",
              "      border-radius: 50%;\n",
              "      cursor: pointer;\n",
              "      display: none;\n",
              "      fill: #1967D2;\n",
              "      height: 32px;\n",
              "      padding: 0 0 0 0;\n",
              "      width: 32px;\n",
              "    }\n",
              "\n",
              "    .colab-df-convert:hover {\n",
              "      background-color: #E2EBFA;\n",
              "      box-shadow: 0px 1px 2px rgba(60, 64, 67, 0.3), 0px 1px 3px 1px rgba(60, 64, 67, 0.15);\n",
              "      fill: #174EA6;\n",
              "    }\n",
              "\n",
              "    [theme=dark] .colab-df-convert {\n",
              "      background-color: #3B4455;\n",
              "      fill: #D2E3FC;\n",
              "    }\n",
              "\n",
              "    [theme=dark] .colab-df-convert:hover {\n",
              "      background-color: #434B5C;\n",
              "      box-shadow: 0px 1px 3px 1px rgba(0, 0, 0, 0.15);\n",
              "      filter: drop-shadow(0px 1px 2px rgba(0, 0, 0, 0.3));\n",
              "      fill: #FFFFFF;\n",
              "    }\n",
              "  </style>\n",
              "\n",
              "      <script>\n",
              "        const buttonEl =\n",
              "          document.querySelector('#df-280af518-932e-4543-b892-4c802d05b9df button.colab-df-convert');\n",
              "        buttonEl.style.display =\n",
              "          google.colab.kernel.accessAllowed ? 'block' : 'none';\n",
              "\n",
              "        async function convertToInteractive(key) {\n",
              "          const element = document.querySelector('#df-280af518-932e-4543-b892-4c802d05b9df');\n",
              "          const dataTable =\n",
              "            await google.colab.kernel.invokeFunction('convertToInteractive',\n",
              "                                                     [key], {});\n",
              "          if (!dataTable) return;\n",
              "\n",
              "          const docLinkHtml = 'Like what you see? Visit the ' +\n",
              "            '<a target=\"_blank\" href=https://colab.research.google.com/notebooks/data_table.ipynb>data table notebook</a>'\n",
              "            + ' to learn more about interactive tables.';\n",
              "          element.innerHTML = '';\n",
              "          dataTable['output_type'] = 'display_data';\n",
              "          await google.colab.output.renderOutput(dataTable, element);\n",
              "          const docLink = document.createElement('div');\n",
              "          docLink.innerHTML = docLinkHtml;\n",
              "          element.appendChild(docLink);\n",
              "        }\n",
              "      </script>\n",
              "    </div>\n",
              "  </div>\n",
              "  "
            ]
          },
          "metadata": {},
          "execution_count": 463
        }
      ]
    },
    {
      "cell_type": "markdown",
      "source": [
        "Dropping of the rows with missing values"
      ],
      "metadata": {
        "id": "kTR1s6kTq1WI"
      }
    },
    {
      "cell_type": "code",
      "source": [
        "DA.isna().sum()"
      ],
      "metadata": {
        "colab": {
          "base_uri": "https://localhost:8080/"
        },
        "id": "XFQP6yMMpg3S",
        "outputId": "8b8a79fc-cc15-4ebc-84ee-16cdeb9d01df"
      },
      "execution_count": null,
      "outputs": [
        {
          "output_type": "execute_result",
          "data": {
            "text/plain": [
              "Date            2\n",
              "Sex             4\n",
              "Race           11\n",
              "Age             2\n",
              "Age Group       2\n",
              "InjuryPlace    79\n",
              "Location       22\n",
              "Year            2\n",
              "Year_month      2\n",
              "dtype: int64"
            ]
          },
          "metadata": {},
          "execution_count": 464
        }
      ]
    },
    {
      "cell_type": "code",
      "source": [
        "DA.dropna(subset=['Date', 'Sex', 'Race', 'Age', 'Age Group', 'InjuryPlace', 'Location', 'Year', 'Year_month'],axis=0,inplace=True)\n",
        "DA.isna().sum()"
      ],
      "metadata": {
        "colab": {
          "base_uri": "https://localhost:8080/"
        },
        "id": "JxplExINp_b2",
        "outputId": "a760ab62-d01e-44e6-ffe6-d5c312534871"
      },
      "execution_count": null,
      "outputs": [
        {
          "output_type": "stream",
          "name": "stderr",
          "text": [
            "/usr/local/lib/python3.7/dist-packages/pandas/util/_decorators.py:311: SettingWithCopyWarning: \n",
            "A value is trying to be set on a copy of a slice from a DataFrame\n",
            "\n",
            "See the caveats in the documentation: https://pandas.pydata.org/pandas-docs/stable/user_guide/indexing.html#returning-a-view-versus-a-copy\n",
            "  return func(*args, **kwargs)\n"
          ]
        },
        {
          "output_type": "execute_result",
          "data": {
            "text/plain": [
              "Date           0\n",
              "Sex            0\n",
              "Race           0\n",
              "Age            0\n",
              "Age Group      0\n",
              "InjuryPlace    0\n",
              "Location       0\n",
              "Year           0\n",
              "Year_month     0\n",
              "dtype: int64"
            ]
          },
          "metadata": {},
          "execution_count": 465
        }
      ]
    },
    {
      "cell_type": "code",
      "source": [
        "DA.info"
      ],
      "metadata": {
        "colab": {
          "base_uri": "https://localhost:8080/"
        },
        "id": "S3Gr2JpQznXJ",
        "outputId": "1db40bcc-3d52-4866-c076-03ce4c74a6a6"
      },
      "execution_count": null,
      "outputs": [
        {
          "output_type": "execute_result",
          "data": {
            "text/plain": [
              "<bound method DataFrame.info of            Date     Sex             Race   Age Age Group  \\\n",
              "1    2012-12-29    Male            White  30.0     20-29   \n",
              "2    2014-02-18    Male            White  43.0     40-49   \n",
              "3    2014-09-07  Female            White  24.0     20-29   \n",
              "4    2013-10-04  Female            White  26.0     20-29   \n",
              "5    2013-12-10  Female            White  45.0     40-49   \n",
              "...         ...     ...              ...   ...       ...   \n",
              "4076 2017-07-24    Male  Hispanic, White  31.0     30-39   \n",
              "4077 2017-08-12  Female  Hispanic, White  46.0     40-49   \n",
              "4078 2017-07-24    Male          Unknown  32.0     30-39   \n",
              "4079 2017-11-17    Male            White  27.0     20-29   \n",
              "4080 2017-12-19  Female            White  24.0     20-29   \n",
              "\n",
              "               InjuryPlace   Location    Year Year_month  \n",
              "1                Residence   Hospital  2012.0    2012-12  \n",
              "2                Residence  Residence  2014.0    2014-02  \n",
              "3                Residence  Residence  2014.0    2014-09  \n",
              "4     Residential Building      Other  2013.0    2013-10  \n",
              "5                Residence   Hospital  2013.0    2013-12  \n",
              "...                    ...        ...     ...        ...  \n",
              "4076            Automobile      Other  2017.0    2017-07  \n",
              "4077                 House   Hospital  2017.0    2017-08  \n",
              "4078             Residence   Hospital  2017.0    2017-07  \n",
              "4079             Residence  Residence  2017.0    2017-11  \n",
              "4080             Residence  Residence  2017.0    2017-12  \n",
              "\n",
              "[3973 rows x 9 columns]>"
            ]
          },
          "metadata": {},
          "execution_count": 466
        }
      ]
    },
    {
      "cell_type": "code",
      "source": [
        "DA.head()\n"
      ],
      "metadata": {
        "colab": {
          "base_uri": "https://localhost:8080/",
          "height": 206
        },
        "id": "8Fuo_SLYLQaw",
        "outputId": "17256e98-de07-4990-f25d-d68daa5f2cfc"
      },
      "execution_count": null,
      "outputs": [
        {
          "output_type": "execute_result",
          "data": {
            "text/plain": [
              "        Date     Sex   Race   Age Age Group           InjuryPlace   Location  \\\n",
              "1 2012-12-29    Male  White  30.0     20-29             Residence   Hospital   \n",
              "2 2014-02-18    Male  White  43.0     40-49             Residence  Residence   \n",
              "3 2014-09-07  Female  White  24.0     20-29             Residence  Residence   \n",
              "4 2013-10-04  Female  White  26.0     20-29  Residential Building      Other   \n",
              "5 2013-12-10  Female  White  45.0     40-49             Residence   Hospital   \n",
              "\n",
              "     Year Year_month  \n",
              "1  2012.0    2012-12  \n",
              "2  2014.0    2014-02  \n",
              "3  2014.0    2014-09  \n",
              "4  2013.0    2013-10  \n",
              "5  2013.0    2013-12  "
            ],
            "text/html": [
              "\n",
              "  <div id=\"df-ba5a5ead-5fcb-49c5-832d-edfebed8f8db\">\n",
              "    <div class=\"colab-df-container\">\n",
              "      <div>\n",
              "<style scoped>\n",
              "    .dataframe tbody tr th:only-of-type {\n",
              "        vertical-align: middle;\n",
              "    }\n",
              "\n",
              "    .dataframe tbody tr th {\n",
              "        vertical-align: top;\n",
              "    }\n",
              "\n",
              "    .dataframe thead th {\n",
              "        text-align: right;\n",
              "    }\n",
              "</style>\n",
              "<table border=\"1\" class=\"dataframe\">\n",
              "  <thead>\n",
              "    <tr style=\"text-align: right;\">\n",
              "      <th></th>\n",
              "      <th>Date</th>\n",
              "      <th>Sex</th>\n",
              "      <th>Race</th>\n",
              "      <th>Age</th>\n",
              "      <th>Age Group</th>\n",
              "      <th>InjuryPlace</th>\n",
              "      <th>Location</th>\n",
              "      <th>Year</th>\n",
              "      <th>Year_month</th>\n",
              "    </tr>\n",
              "  </thead>\n",
              "  <tbody>\n",
              "    <tr>\n",
              "      <th>1</th>\n",
              "      <td>2012-12-29</td>\n",
              "      <td>Male</td>\n",
              "      <td>White</td>\n",
              "      <td>30.0</td>\n",
              "      <td>20-29</td>\n",
              "      <td>Residence</td>\n",
              "      <td>Hospital</td>\n",
              "      <td>2012.0</td>\n",
              "      <td>2012-12</td>\n",
              "    </tr>\n",
              "    <tr>\n",
              "      <th>2</th>\n",
              "      <td>2014-02-18</td>\n",
              "      <td>Male</td>\n",
              "      <td>White</td>\n",
              "      <td>43.0</td>\n",
              "      <td>40-49</td>\n",
              "      <td>Residence</td>\n",
              "      <td>Residence</td>\n",
              "      <td>2014.0</td>\n",
              "      <td>2014-02</td>\n",
              "    </tr>\n",
              "    <tr>\n",
              "      <th>3</th>\n",
              "      <td>2014-09-07</td>\n",
              "      <td>Female</td>\n",
              "      <td>White</td>\n",
              "      <td>24.0</td>\n",
              "      <td>20-29</td>\n",
              "      <td>Residence</td>\n",
              "      <td>Residence</td>\n",
              "      <td>2014.0</td>\n",
              "      <td>2014-09</td>\n",
              "    </tr>\n",
              "    <tr>\n",
              "      <th>4</th>\n",
              "      <td>2013-10-04</td>\n",
              "      <td>Female</td>\n",
              "      <td>White</td>\n",
              "      <td>26.0</td>\n",
              "      <td>20-29</td>\n",
              "      <td>Residential Building</td>\n",
              "      <td>Other</td>\n",
              "      <td>2013.0</td>\n",
              "      <td>2013-10</td>\n",
              "    </tr>\n",
              "    <tr>\n",
              "      <th>5</th>\n",
              "      <td>2013-12-10</td>\n",
              "      <td>Female</td>\n",
              "      <td>White</td>\n",
              "      <td>45.0</td>\n",
              "      <td>40-49</td>\n",
              "      <td>Residence</td>\n",
              "      <td>Hospital</td>\n",
              "      <td>2013.0</td>\n",
              "      <td>2013-12</td>\n",
              "    </tr>\n",
              "  </tbody>\n",
              "</table>\n",
              "</div>\n",
              "      <button class=\"colab-df-convert\" onclick=\"convertToInteractive('df-ba5a5ead-5fcb-49c5-832d-edfebed8f8db')\"\n",
              "              title=\"Convert this dataframe to an interactive table.\"\n",
              "              style=\"display:none;\">\n",
              "        \n",
              "  <svg xmlns=\"http://www.w3.org/2000/svg\" height=\"24px\"viewBox=\"0 0 24 24\"\n",
              "       width=\"24px\">\n",
              "    <path d=\"M0 0h24v24H0V0z\" fill=\"none\"/>\n",
              "    <path d=\"M18.56 5.44l.94 2.06.94-2.06 2.06-.94-2.06-.94-.94-2.06-.94 2.06-2.06.94zm-11 1L8.5 8.5l.94-2.06 2.06-.94-2.06-.94L8.5 2.5l-.94 2.06-2.06.94zm10 10l.94 2.06.94-2.06 2.06-.94-2.06-.94-.94-2.06-.94 2.06-2.06.94z\"/><path d=\"M17.41 7.96l-1.37-1.37c-.4-.4-.92-.59-1.43-.59-.52 0-1.04.2-1.43.59L10.3 9.45l-7.72 7.72c-.78.78-.78 2.05 0 2.83L4 21.41c.39.39.9.59 1.41.59.51 0 1.02-.2 1.41-.59l7.78-7.78 2.81-2.81c.8-.78.8-2.07 0-2.86zM5.41 20L4 18.59l7.72-7.72 1.47 1.35L5.41 20z\"/>\n",
              "  </svg>\n",
              "      </button>\n",
              "      \n",
              "  <style>\n",
              "    .colab-df-container {\n",
              "      display:flex;\n",
              "      flex-wrap:wrap;\n",
              "      gap: 12px;\n",
              "    }\n",
              "\n",
              "    .colab-df-convert {\n",
              "      background-color: #E8F0FE;\n",
              "      border: none;\n",
              "      border-radius: 50%;\n",
              "      cursor: pointer;\n",
              "      display: none;\n",
              "      fill: #1967D2;\n",
              "      height: 32px;\n",
              "      padding: 0 0 0 0;\n",
              "      width: 32px;\n",
              "    }\n",
              "\n",
              "    .colab-df-convert:hover {\n",
              "      background-color: #E2EBFA;\n",
              "      box-shadow: 0px 1px 2px rgba(60, 64, 67, 0.3), 0px 1px 3px 1px rgba(60, 64, 67, 0.15);\n",
              "      fill: #174EA6;\n",
              "    }\n",
              "\n",
              "    [theme=dark] .colab-df-convert {\n",
              "      background-color: #3B4455;\n",
              "      fill: #D2E3FC;\n",
              "    }\n",
              "\n",
              "    [theme=dark] .colab-df-convert:hover {\n",
              "      background-color: #434B5C;\n",
              "      box-shadow: 0px 1px 3px 1px rgba(0, 0, 0, 0.15);\n",
              "      filter: drop-shadow(0px 1px 2px rgba(0, 0, 0, 0.3));\n",
              "      fill: #FFFFFF;\n",
              "    }\n",
              "  </style>\n",
              "\n",
              "      <script>\n",
              "        const buttonEl =\n",
              "          document.querySelector('#df-ba5a5ead-5fcb-49c5-832d-edfebed8f8db button.colab-df-convert');\n",
              "        buttonEl.style.display =\n",
              "          google.colab.kernel.accessAllowed ? 'block' : 'none';\n",
              "\n",
              "        async function convertToInteractive(key) {\n",
              "          const element = document.querySelector('#df-ba5a5ead-5fcb-49c5-832d-edfebed8f8db');\n",
              "          const dataTable =\n",
              "            await google.colab.kernel.invokeFunction('convertToInteractive',\n",
              "                                                     [key], {});\n",
              "          if (!dataTable) return;\n",
              "\n",
              "          const docLinkHtml = 'Like what you see? Visit the ' +\n",
              "            '<a target=\"_blank\" href=https://colab.research.google.com/notebooks/data_table.ipynb>data table notebook</a>'\n",
              "            + ' to learn more about interactive tables.';\n",
              "          element.innerHTML = '';\n",
              "          dataTable['output_type'] = 'display_data';\n",
              "          await google.colab.output.renderOutput(dataTable, element);\n",
              "          const docLink = document.createElement('div');\n",
              "          docLink.innerHTML = docLinkHtml;\n",
              "          element.appendChild(docLink);\n",
              "        }\n",
              "      </script>\n",
              "    </div>\n",
              "  </div>\n",
              "  "
            ]
          },
          "metadata": {},
          "execution_count": 467
        }
      ]
    },
    {
      "cell_type": "markdown",
      "source": [
        "Since the analytical question is interested in calling out the number of people that were able to make it to the hospital, the rows which records abusers/misusers having their intoxication episode take place within the hospital environment will also be taken off the \"InjuryPlace\" column"
      ],
      "metadata": {
        "id": "YqHhwycHegPS"
      }
    },
    {
      "cell_type": "code",
      "source": [
        "DA=DA[DA['InjuryPlace']!= 'Hospital']\n",
        "DA.info"
      ],
      "metadata": {
        "colab": {
          "base_uri": "https://localhost:8080/"
        },
        "id": "lta_Cs2z-Hvz",
        "outputId": "c6650386-83fb-423e-bc98-7874427625f9"
      },
      "execution_count": null,
      "outputs": [
        {
          "output_type": "execute_result",
          "data": {
            "text/plain": [
              "<bound method DataFrame.info of            Date     Sex             Race   Age Age Group  \\\n",
              "1    2012-12-29    Male            White  30.0     20-29   \n",
              "2    2014-02-18    Male            White  43.0     40-49   \n",
              "3    2014-09-07  Female            White  24.0     20-29   \n",
              "4    2013-10-04  Female            White  26.0     20-29   \n",
              "5    2013-12-10  Female            White  45.0     40-49   \n",
              "...         ...     ...              ...   ...       ...   \n",
              "4076 2017-07-24    Male  Hispanic, White  31.0     30-39   \n",
              "4077 2017-08-12  Female  Hispanic, White  46.0     40-49   \n",
              "4078 2017-07-24    Male          Unknown  32.0     30-39   \n",
              "4079 2017-11-17    Male            White  27.0     20-29   \n",
              "4080 2017-12-19  Female            White  24.0     20-29   \n",
              "\n",
              "               InjuryPlace   Location    Year Year_month  \n",
              "1                Residence   Hospital  2012.0    2012-12  \n",
              "2                Residence  Residence  2014.0    2014-02  \n",
              "3                Residence  Residence  2014.0    2014-09  \n",
              "4     Residential Building      Other  2013.0    2013-10  \n",
              "5                Residence   Hospital  2013.0    2013-12  \n",
              "...                    ...        ...     ...        ...  \n",
              "4076            Automobile      Other  2017.0    2017-07  \n",
              "4077                 House   Hospital  2017.0    2017-08  \n",
              "4078             Residence   Hospital  2017.0    2017-07  \n",
              "4079             Residence  Residence  2017.0    2017-11  \n",
              "4080             Residence  Residence  2017.0    2017-12  \n",
              "\n",
              "[3910 rows x 9 columns]>"
            ]
          },
          "metadata": {},
          "execution_count": 468
        }
      ]
    },
    {
      "cell_type": "markdown",
      "source": [
        "# **Statistical/Computational-based Data Analytics**\n",
        "\n",
        "Because of the nature of the data being explored, KNN would be utilized for this purpose and Decision Tree would double to confirm the model`s accuracy"
      ],
      "metadata": {
        "id": "0oZ75wYIsH7E"
      }
    },
    {
      "cell_type": "code",
      "source": [
        "DA"
      ],
      "metadata": {
        "colab": {
          "base_uri": "https://localhost:8080/",
          "height": 424
        },
        "id": "AJ51QJSqs-wE",
        "outputId": "b0baa94a-e994-4b52-99d7-d8b06880d699"
      },
      "execution_count": null,
      "outputs": [
        {
          "output_type": "execute_result",
          "data": {
            "text/plain": [
              "           Date     Sex             Race   Age Age Group  \\\n",
              "1    2012-12-29    Male            White  30.0     20-29   \n",
              "2    2014-02-18    Male            White  43.0     40-49   \n",
              "3    2014-09-07  Female            White  24.0     20-29   \n",
              "4    2013-10-04  Female            White  26.0     20-29   \n",
              "5    2013-12-10  Female            White  45.0     40-49   \n",
              "...         ...     ...              ...   ...       ...   \n",
              "4076 2017-07-24    Male  Hispanic, White  31.0     30-39   \n",
              "4077 2017-08-12  Female  Hispanic, White  46.0     40-49   \n",
              "4078 2017-07-24    Male          Unknown  32.0     30-39   \n",
              "4079 2017-11-17    Male            White  27.0     20-29   \n",
              "4080 2017-12-19  Female            White  24.0     20-29   \n",
              "\n",
              "               InjuryPlace   Location    Year Year_month  \n",
              "1                Residence   Hospital  2012.0    2012-12  \n",
              "2                Residence  Residence  2014.0    2014-02  \n",
              "3                Residence  Residence  2014.0    2014-09  \n",
              "4     Residential Building      Other  2013.0    2013-10  \n",
              "5                Residence   Hospital  2013.0    2013-12  \n",
              "...                    ...        ...     ...        ...  \n",
              "4076            Automobile      Other  2017.0    2017-07  \n",
              "4077                 House   Hospital  2017.0    2017-08  \n",
              "4078             Residence   Hospital  2017.0    2017-07  \n",
              "4079             Residence  Residence  2017.0    2017-11  \n",
              "4080             Residence  Residence  2017.0    2017-12  \n",
              "\n",
              "[3910 rows x 9 columns]"
            ],
            "text/html": [
              "\n",
              "  <div id=\"df-ad64e8ed-1af6-4492-b811-babbfadf3ba7\">\n",
              "    <div class=\"colab-df-container\">\n",
              "      <div>\n",
              "<style scoped>\n",
              "    .dataframe tbody tr th:only-of-type {\n",
              "        vertical-align: middle;\n",
              "    }\n",
              "\n",
              "    .dataframe tbody tr th {\n",
              "        vertical-align: top;\n",
              "    }\n",
              "\n",
              "    .dataframe thead th {\n",
              "        text-align: right;\n",
              "    }\n",
              "</style>\n",
              "<table border=\"1\" class=\"dataframe\">\n",
              "  <thead>\n",
              "    <tr style=\"text-align: right;\">\n",
              "      <th></th>\n",
              "      <th>Date</th>\n",
              "      <th>Sex</th>\n",
              "      <th>Race</th>\n",
              "      <th>Age</th>\n",
              "      <th>Age Group</th>\n",
              "      <th>InjuryPlace</th>\n",
              "      <th>Location</th>\n",
              "      <th>Year</th>\n",
              "      <th>Year_month</th>\n",
              "    </tr>\n",
              "  </thead>\n",
              "  <tbody>\n",
              "    <tr>\n",
              "      <th>1</th>\n",
              "      <td>2012-12-29</td>\n",
              "      <td>Male</td>\n",
              "      <td>White</td>\n",
              "      <td>30.0</td>\n",
              "      <td>20-29</td>\n",
              "      <td>Residence</td>\n",
              "      <td>Hospital</td>\n",
              "      <td>2012.0</td>\n",
              "      <td>2012-12</td>\n",
              "    </tr>\n",
              "    <tr>\n",
              "      <th>2</th>\n",
              "      <td>2014-02-18</td>\n",
              "      <td>Male</td>\n",
              "      <td>White</td>\n",
              "      <td>43.0</td>\n",
              "      <td>40-49</td>\n",
              "      <td>Residence</td>\n",
              "      <td>Residence</td>\n",
              "      <td>2014.0</td>\n",
              "      <td>2014-02</td>\n",
              "    </tr>\n",
              "    <tr>\n",
              "      <th>3</th>\n",
              "      <td>2014-09-07</td>\n",
              "      <td>Female</td>\n",
              "      <td>White</td>\n",
              "      <td>24.0</td>\n",
              "      <td>20-29</td>\n",
              "      <td>Residence</td>\n",
              "      <td>Residence</td>\n",
              "      <td>2014.0</td>\n",
              "      <td>2014-09</td>\n",
              "    </tr>\n",
              "    <tr>\n",
              "      <th>4</th>\n",
              "      <td>2013-10-04</td>\n",
              "      <td>Female</td>\n",
              "      <td>White</td>\n",
              "      <td>26.0</td>\n",
              "      <td>20-29</td>\n",
              "      <td>Residential Building</td>\n",
              "      <td>Other</td>\n",
              "      <td>2013.0</td>\n",
              "      <td>2013-10</td>\n",
              "    </tr>\n",
              "    <tr>\n",
              "      <th>5</th>\n",
              "      <td>2013-12-10</td>\n",
              "      <td>Female</td>\n",
              "      <td>White</td>\n",
              "      <td>45.0</td>\n",
              "      <td>40-49</td>\n",
              "      <td>Residence</td>\n",
              "      <td>Hospital</td>\n",
              "      <td>2013.0</td>\n",
              "      <td>2013-12</td>\n",
              "    </tr>\n",
              "    <tr>\n",
              "      <th>...</th>\n",
              "      <td>...</td>\n",
              "      <td>...</td>\n",
              "      <td>...</td>\n",
              "      <td>...</td>\n",
              "      <td>...</td>\n",
              "      <td>...</td>\n",
              "      <td>...</td>\n",
              "      <td>...</td>\n",
              "      <td>...</td>\n",
              "    </tr>\n",
              "    <tr>\n",
              "      <th>4076</th>\n",
              "      <td>2017-07-24</td>\n",
              "      <td>Male</td>\n",
              "      <td>Hispanic, White</td>\n",
              "      <td>31.0</td>\n",
              "      <td>30-39</td>\n",
              "      <td>Automobile</td>\n",
              "      <td>Other</td>\n",
              "      <td>2017.0</td>\n",
              "      <td>2017-07</td>\n",
              "    </tr>\n",
              "    <tr>\n",
              "      <th>4077</th>\n",
              "      <td>2017-08-12</td>\n",
              "      <td>Female</td>\n",
              "      <td>Hispanic, White</td>\n",
              "      <td>46.0</td>\n",
              "      <td>40-49</td>\n",
              "      <td>House</td>\n",
              "      <td>Hospital</td>\n",
              "      <td>2017.0</td>\n",
              "      <td>2017-08</td>\n",
              "    </tr>\n",
              "    <tr>\n",
              "      <th>4078</th>\n",
              "      <td>2017-07-24</td>\n",
              "      <td>Male</td>\n",
              "      <td>Unknown</td>\n",
              "      <td>32.0</td>\n",
              "      <td>30-39</td>\n",
              "      <td>Residence</td>\n",
              "      <td>Hospital</td>\n",
              "      <td>2017.0</td>\n",
              "      <td>2017-07</td>\n",
              "    </tr>\n",
              "    <tr>\n",
              "      <th>4079</th>\n",
              "      <td>2017-11-17</td>\n",
              "      <td>Male</td>\n",
              "      <td>White</td>\n",
              "      <td>27.0</td>\n",
              "      <td>20-29</td>\n",
              "      <td>Residence</td>\n",
              "      <td>Residence</td>\n",
              "      <td>2017.0</td>\n",
              "      <td>2017-11</td>\n",
              "    </tr>\n",
              "    <tr>\n",
              "      <th>4080</th>\n",
              "      <td>2017-12-19</td>\n",
              "      <td>Female</td>\n",
              "      <td>White</td>\n",
              "      <td>24.0</td>\n",
              "      <td>20-29</td>\n",
              "      <td>Residence</td>\n",
              "      <td>Residence</td>\n",
              "      <td>2017.0</td>\n",
              "      <td>2017-12</td>\n",
              "    </tr>\n",
              "  </tbody>\n",
              "</table>\n",
              "<p>3910 rows × 9 columns</p>\n",
              "</div>\n",
              "      <button class=\"colab-df-convert\" onclick=\"convertToInteractive('df-ad64e8ed-1af6-4492-b811-babbfadf3ba7')\"\n",
              "              title=\"Convert this dataframe to an interactive table.\"\n",
              "              style=\"display:none;\">\n",
              "        \n",
              "  <svg xmlns=\"http://www.w3.org/2000/svg\" height=\"24px\"viewBox=\"0 0 24 24\"\n",
              "       width=\"24px\">\n",
              "    <path d=\"M0 0h24v24H0V0z\" fill=\"none\"/>\n",
              "    <path d=\"M18.56 5.44l.94 2.06.94-2.06 2.06-.94-2.06-.94-.94-2.06-.94 2.06-2.06.94zm-11 1L8.5 8.5l.94-2.06 2.06-.94-2.06-.94L8.5 2.5l-.94 2.06-2.06.94zm10 10l.94 2.06.94-2.06 2.06-.94-2.06-.94-.94-2.06-.94 2.06-2.06.94z\"/><path d=\"M17.41 7.96l-1.37-1.37c-.4-.4-.92-.59-1.43-.59-.52 0-1.04.2-1.43.59L10.3 9.45l-7.72 7.72c-.78.78-.78 2.05 0 2.83L4 21.41c.39.39.9.59 1.41.59.51 0 1.02-.2 1.41-.59l7.78-7.78 2.81-2.81c.8-.78.8-2.07 0-2.86zM5.41 20L4 18.59l7.72-7.72 1.47 1.35L5.41 20z\"/>\n",
              "  </svg>\n",
              "      </button>\n",
              "      \n",
              "  <style>\n",
              "    .colab-df-container {\n",
              "      display:flex;\n",
              "      flex-wrap:wrap;\n",
              "      gap: 12px;\n",
              "    }\n",
              "\n",
              "    .colab-df-convert {\n",
              "      background-color: #E8F0FE;\n",
              "      border: none;\n",
              "      border-radius: 50%;\n",
              "      cursor: pointer;\n",
              "      display: none;\n",
              "      fill: #1967D2;\n",
              "      height: 32px;\n",
              "      padding: 0 0 0 0;\n",
              "      width: 32px;\n",
              "    }\n",
              "\n",
              "    .colab-df-convert:hover {\n",
              "      background-color: #E2EBFA;\n",
              "      box-shadow: 0px 1px 2px rgba(60, 64, 67, 0.3), 0px 1px 3px 1px rgba(60, 64, 67, 0.15);\n",
              "      fill: #174EA6;\n",
              "    }\n",
              "\n",
              "    [theme=dark] .colab-df-convert {\n",
              "      background-color: #3B4455;\n",
              "      fill: #D2E3FC;\n",
              "    }\n",
              "\n",
              "    [theme=dark] .colab-df-convert:hover {\n",
              "      background-color: #434B5C;\n",
              "      box-shadow: 0px 1px 3px 1px rgba(0, 0, 0, 0.15);\n",
              "      filter: drop-shadow(0px 1px 2px rgba(0, 0, 0, 0.3));\n",
              "      fill: #FFFFFF;\n",
              "    }\n",
              "  </style>\n",
              "\n",
              "      <script>\n",
              "        const buttonEl =\n",
              "          document.querySelector('#df-ad64e8ed-1af6-4492-b811-babbfadf3ba7 button.colab-df-convert');\n",
              "        buttonEl.style.display =\n",
              "          google.colab.kernel.accessAllowed ? 'block' : 'none';\n",
              "\n",
              "        async function convertToInteractive(key) {\n",
              "          const element = document.querySelector('#df-ad64e8ed-1af6-4492-b811-babbfadf3ba7');\n",
              "          const dataTable =\n",
              "            await google.colab.kernel.invokeFunction('convertToInteractive',\n",
              "                                                     [key], {});\n",
              "          if (!dataTable) return;\n",
              "\n",
              "          const docLinkHtml = 'Like what you see? Visit the ' +\n",
              "            '<a target=\"_blank\" href=https://colab.research.google.com/notebooks/data_table.ipynb>data table notebook</a>'\n",
              "            + ' to learn more about interactive tables.';\n",
              "          element.innerHTML = '';\n",
              "          dataTable['output_type'] = 'display_data';\n",
              "          await google.colab.output.renderOutput(dataTable, element);\n",
              "          const docLink = document.createElement('div');\n",
              "          docLink.innerHTML = docLinkHtml;\n",
              "          element.appendChild(docLink);\n",
              "        }\n",
              "      </script>\n",
              "    </div>\n",
              "  </div>\n",
              "  "
            ]
          },
          "metadata": {},
          "execution_count": 469
        }
      ]
    },
    {
      "cell_type": "markdown",
      "source": [
        "Defining the axis X and Y variables"
      ],
      "metadata": {
        "id": "4M_zK6ExvGOm"
      }
    },
    {
      "cell_type": "code",
      "source": [
        "\n",
        "\n",
        "X = DA[['Sex','Age', 'InjuryPlace']] .values\n",
        "\n",
        "X[0:5]"
      ],
      "metadata": {
        "colab": {
          "base_uri": "https://localhost:8080/"
        },
        "id": "UtAYtzdeutG0",
        "outputId": "d6069786-14a4-4729-e8c1-648a1a25ef5b"
      },
      "execution_count": null,
      "outputs": [
        {
          "output_type": "execute_result",
          "data": {
            "text/plain": [
              "array([['Male', 30.0, 'Residence'],\n",
              "       ['Male', 43.0, 'Residence'],\n",
              "       ['Female', 24.0, 'Residence'],\n",
              "       ['Female', 26.0, 'Residential Building'],\n",
              "       ['Female', 45.0, 'Residence']], dtype=object)"
            ]
          },
          "metadata": {},
          "execution_count": 470
        }
      ]
    },
    {
      "cell_type": "markdown",
      "source": [
        "Restructuring the records of \"InjuryPlace\" to clean up the repititions, similarities and leave us with the important category of places intoxication took place"
      ],
      "metadata": {
        "id": "XmuxndDofhy7"
      }
    },
    {
      "cell_type": "code",
      "source": [
        "location = ['Residence', 'Other', 'Automobile', 'Residential Building', 'Unknown', 'Hotel or Motel', 'Other indoor Area', 'Other Industrial Area', 'Restaurant', 'Office Building', 'Store or Shopping Area', 'Other Public Buildings']\n",
        "\n",
        "\n",
        "\n",
        "places = pd.DataFrame(location, columns =['location'])\n",
        "\n",
        "places"
      ],
      "metadata": {
        "colab": {
          "base_uri": "https://localhost:8080/",
          "height": 426
        },
        "id": "cDd67ENcuqOq",
        "outputId": "7c69d5e9-cf2e-44a2-d3de-16db0b21d872"
      },
      "execution_count": null,
      "outputs": [
        {
          "output_type": "execute_result",
          "data": {
            "text/plain": [
              "                  location\n",
              "0                Residence\n",
              "1                    Other\n",
              "2               Automobile\n",
              "3     Residential Building\n",
              "4                  Unknown\n",
              "5           Hotel or Motel\n",
              "6        Other indoor Area\n",
              "7    Other Industrial Area\n",
              "8               Restaurant\n",
              "9          Office Building\n",
              "10  Store or Shopping Area\n",
              "11  Other Public Buildings"
            ],
            "text/html": [
              "\n",
              "  <div id=\"df-22ce31e0-5281-4017-946b-a956484e58a4\">\n",
              "    <div class=\"colab-df-container\">\n",
              "      <div>\n",
              "<style scoped>\n",
              "    .dataframe tbody tr th:only-of-type {\n",
              "        vertical-align: middle;\n",
              "    }\n",
              "\n",
              "    .dataframe tbody tr th {\n",
              "        vertical-align: top;\n",
              "    }\n",
              "\n",
              "    .dataframe thead th {\n",
              "        text-align: right;\n",
              "    }\n",
              "</style>\n",
              "<table border=\"1\" class=\"dataframe\">\n",
              "  <thead>\n",
              "    <tr style=\"text-align: right;\">\n",
              "      <th></th>\n",
              "      <th>location</th>\n",
              "    </tr>\n",
              "  </thead>\n",
              "  <tbody>\n",
              "    <tr>\n",
              "      <th>0</th>\n",
              "      <td>Residence</td>\n",
              "    </tr>\n",
              "    <tr>\n",
              "      <th>1</th>\n",
              "      <td>Other</td>\n",
              "    </tr>\n",
              "    <tr>\n",
              "      <th>2</th>\n",
              "      <td>Automobile</td>\n",
              "    </tr>\n",
              "    <tr>\n",
              "      <th>3</th>\n",
              "      <td>Residential Building</td>\n",
              "    </tr>\n",
              "    <tr>\n",
              "      <th>4</th>\n",
              "      <td>Unknown</td>\n",
              "    </tr>\n",
              "    <tr>\n",
              "      <th>5</th>\n",
              "      <td>Hotel or Motel</td>\n",
              "    </tr>\n",
              "    <tr>\n",
              "      <th>6</th>\n",
              "      <td>Other indoor Area</td>\n",
              "    </tr>\n",
              "    <tr>\n",
              "      <th>7</th>\n",
              "      <td>Other Industrial Area</td>\n",
              "    </tr>\n",
              "    <tr>\n",
              "      <th>8</th>\n",
              "      <td>Restaurant</td>\n",
              "    </tr>\n",
              "    <tr>\n",
              "      <th>9</th>\n",
              "      <td>Office Building</td>\n",
              "    </tr>\n",
              "    <tr>\n",
              "      <th>10</th>\n",
              "      <td>Store or Shopping Area</td>\n",
              "    </tr>\n",
              "    <tr>\n",
              "      <th>11</th>\n",
              "      <td>Other Public Buildings</td>\n",
              "    </tr>\n",
              "  </tbody>\n",
              "</table>\n",
              "</div>\n",
              "      <button class=\"colab-df-convert\" onclick=\"convertToInteractive('df-22ce31e0-5281-4017-946b-a956484e58a4')\"\n",
              "              title=\"Convert this dataframe to an interactive table.\"\n",
              "              style=\"display:none;\">\n",
              "        \n",
              "  <svg xmlns=\"http://www.w3.org/2000/svg\" height=\"24px\"viewBox=\"0 0 24 24\"\n",
              "       width=\"24px\">\n",
              "    <path d=\"M0 0h24v24H0V0z\" fill=\"none\"/>\n",
              "    <path d=\"M18.56 5.44l.94 2.06.94-2.06 2.06-.94-2.06-.94-.94-2.06-.94 2.06-2.06.94zm-11 1L8.5 8.5l.94-2.06 2.06-.94-2.06-.94L8.5 2.5l-.94 2.06-2.06.94zm10 10l.94 2.06.94-2.06 2.06-.94-2.06-.94-.94-2.06-.94 2.06-2.06.94z\"/><path d=\"M17.41 7.96l-1.37-1.37c-.4-.4-.92-.59-1.43-.59-.52 0-1.04.2-1.43.59L10.3 9.45l-7.72 7.72c-.78.78-.78 2.05 0 2.83L4 21.41c.39.39.9.59 1.41.59.51 0 1.02-.2 1.41-.59l7.78-7.78 2.81-2.81c.8-.78.8-2.07 0-2.86zM5.41 20L4 18.59l7.72-7.72 1.47 1.35L5.41 20z\"/>\n",
              "  </svg>\n",
              "      </button>\n",
              "      \n",
              "  <style>\n",
              "    .colab-df-container {\n",
              "      display:flex;\n",
              "      flex-wrap:wrap;\n",
              "      gap: 12px;\n",
              "    }\n",
              "\n",
              "    .colab-df-convert {\n",
              "      background-color: #E8F0FE;\n",
              "      border: none;\n",
              "      border-radius: 50%;\n",
              "      cursor: pointer;\n",
              "      display: none;\n",
              "      fill: #1967D2;\n",
              "      height: 32px;\n",
              "      padding: 0 0 0 0;\n",
              "      width: 32px;\n",
              "    }\n",
              "\n",
              "    .colab-df-convert:hover {\n",
              "      background-color: #E2EBFA;\n",
              "      box-shadow: 0px 1px 2px rgba(60, 64, 67, 0.3), 0px 1px 3px 1px rgba(60, 64, 67, 0.15);\n",
              "      fill: #174EA6;\n",
              "    }\n",
              "\n",
              "    [theme=dark] .colab-df-convert {\n",
              "      background-color: #3B4455;\n",
              "      fill: #D2E3FC;\n",
              "    }\n",
              "\n",
              "    [theme=dark] .colab-df-convert:hover {\n",
              "      background-color: #434B5C;\n",
              "      box-shadow: 0px 1px 3px 1px rgba(0, 0, 0, 0.15);\n",
              "      filter: drop-shadow(0px 1px 2px rgba(0, 0, 0, 0.3));\n",
              "      fill: #FFFFFF;\n",
              "    }\n",
              "  </style>\n",
              "\n",
              "      <script>\n",
              "        const buttonEl =\n",
              "          document.querySelector('#df-22ce31e0-5281-4017-946b-a956484e58a4 button.colab-df-convert');\n",
              "        buttonEl.style.display =\n",
              "          google.colab.kernel.accessAllowed ? 'block' : 'none';\n",
              "\n",
              "        async function convertToInteractive(key) {\n",
              "          const element = document.querySelector('#df-22ce31e0-5281-4017-946b-a956484e58a4');\n",
              "          const dataTable =\n",
              "            await google.colab.kernel.invokeFunction('convertToInteractive',\n",
              "                                                     [key], {});\n",
              "          if (!dataTable) return;\n",
              "\n",
              "          const docLinkHtml = 'Like what you see? Visit the ' +\n",
              "            '<a target=\"_blank\" href=https://colab.research.google.com/notebooks/data_table.ipynb>data table notebook</a>'\n",
              "            + ' to learn more about interactive tables.';\n",
              "          element.innerHTML = '';\n",
              "          dataTable['output_type'] = 'display_data';\n",
              "          await google.colab.output.renderOutput(dataTable, element);\n",
              "          const docLink = document.createElement('div');\n",
              "          docLink.innerHTML = docLinkHtml;\n",
              "          element.appendChild(docLink);\n",
              "        }\n",
              "      </script>\n",
              "    </div>\n",
              "  </div>\n",
              "  "
            ]
          },
          "metadata": {},
          "execution_count": 471
        }
      ]
    },
    {
      "cell_type": "code",
      "source": [
        "DA=DA[DA['InjuryPlace'].isin(places['location'])]\n"
      ],
      "metadata": {
        "id": "_QTaFesuu1v_"
      },
      "execution_count": null,
      "outputs": []
    },
    {
      "cell_type": "code",
      "source": [
        "DA"
      ],
      "metadata": {
        "colab": {
          "base_uri": "https://localhost:8080/",
          "height": 424
        },
        "id": "ltTIJ6l0vLpm",
        "outputId": "ef54776a-23cb-49e5-f954-cd6d24bad8f8"
      },
      "execution_count": null,
      "outputs": [
        {
          "output_type": "execute_result",
          "data": {
            "text/plain": [
              "           Date     Sex             Race   Age Age Group  \\\n",
              "1    2012-12-29    Male            White  30.0     20-29   \n",
              "2    2014-02-18    Male            White  43.0     40-49   \n",
              "3    2014-09-07  Female            White  24.0     20-29   \n",
              "4    2013-10-04  Female            White  26.0     20-29   \n",
              "5    2013-12-10  Female            White  45.0     40-49   \n",
              "...         ...     ...              ...   ...       ...   \n",
              "4075 2017-08-20    Male            White  35.0     30-39   \n",
              "4076 2017-07-24    Male  Hispanic, White  31.0     30-39   \n",
              "4078 2017-07-24    Male          Unknown  32.0     30-39   \n",
              "4079 2017-11-17    Male            White  27.0     20-29   \n",
              "4080 2017-12-19  Female            White  24.0     20-29   \n",
              "\n",
              "               InjuryPlace   Location    Year Year_month  \n",
              "1                Residence   Hospital  2012.0    2012-12  \n",
              "2                Residence  Residence  2014.0    2014-02  \n",
              "3                Residence  Residence  2014.0    2014-09  \n",
              "4     Residential Building      Other  2013.0    2013-10  \n",
              "5                Residence   Hospital  2013.0    2013-12  \n",
              "...                    ...        ...     ...        ...  \n",
              "4075             Residence   Hospital  2017.0    2017-08  \n",
              "4076            Automobile      Other  2017.0    2017-07  \n",
              "4078             Residence   Hospital  2017.0    2017-07  \n",
              "4079             Residence  Residence  2017.0    2017-11  \n",
              "4080             Residence  Residence  2017.0    2017-12  \n",
              "\n",
              "[3615 rows x 9 columns]"
            ],
            "text/html": [
              "\n",
              "  <div id=\"df-e99e1f87-69f3-4475-99da-771acf565c31\">\n",
              "    <div class=\"colab-df-container\">\n",
              "      <div>\n",
              "<style scoped>\n",
              "    .dataframe tbody tr th:only-of-type {\n",
              "        vertical-align: middle;\n",
              "    }\n",
              "\n",
              "    .dataframe tbody tr th {\n",
              "        vertical-align: top;\n",
              "    }\n",
              "\n",
              "    .dataframe thead th {\n",
              "        text-align: right;\n",
              "    }\n",
              "</style>\n",
              "<table border=\"1\" class=\"dataframe\">\n",
              "  <thead>\n",
              "    <tr style=\"text-align: right;\">\n",
              "      <th></th>\n",
              "      <th>Date</th>\n",
              "      <th>Sex</th>\n",
              "      <th>Race</th>\n",
              "      <th>Age</th>\n",
              "      <th>Age Group</th>\n",
              "      <th>InjuryPlace</th>\n",
              "      <th>Location</th>\n",
              "      <th>Year</th>\n",
              "      <th>Year_month</th>\n",
              "    </tr>\n",
              "  </thead>\n",
              "  <tbody>\n",
              "    <tr>\n",
              "      <th>1</th>\n",
              "      <td>2012-12-29</td>\n",
              "      <td>Male</td>\n",
              "      <td>White</td>\n",
              "      <td>30.0</td>\n",
              "      <td>20-29</td>\n",
              "      <td>Residence</td>\n",
              "      <td>Hospital</td>\n",
              "      <td>2012.0</td>\n",
              "      <td>2012-12</td>\n",
              "    </tr>\n",
              "    <tr>\n",
              "      <th>2</th>\n",
              "      <td>2014-02-18</td>\n",
              "      <td>Male</td>\n",
              "      <td>White</td>\n",
              "      <td>43.0</td>\n",
              "      <td>40-49</td>\n",
              "      <td>Residence</td>\n",
              "      <td>Residence</td>\n",
              "      <td>2014.0</td>\n",
              "      <td>2014-02</td>\n",
              "    </tr>\n",
              "    <tr>\n",
              "      <th>3</th>\n",
              "      <td>2014-09-07</td>\n",
              "      <td>Female</td>\n",
              "      <td>White</td>\n",
              "      <td>24.0</td>\n",
              "      <td>20-29</td>\n",
              "      <td>Residence</td>\n",
              "      <td>Residence</td>\n",
              "      <td>2014.0</td>\n",
              "      <td>2014-09</td>\n",
              "    </tr>\n",
              "    <tr>\n",
              "      <th>4</th>\n",
              "      <td>2013-10-04</td>\n",
              "      <td>Female</td>\n",
              "      <td>White</td>\n",
              "      <td>26.0</td>\n",
              "      <td>20-29</td>\n",
              "      <td>Residential Building</td>\n",
              "      <td>Other</td>\n",
              "      <td>2013.0</td>\n",
              "      <td>2013-10</td>\n",
              "    </tr>\n",
              "    <tr>\n",
              "      <th>5</th>\n",
              "      <td>2013-12-10</td>\n",
              "      <td>Female</td>\n",
              "      <td>White</td>\n",
              "      <td>45.0</td>\n",
              "      <td>40-49</td>\n",
              "      <td>Residence</td>\n",
              "      <td>Hospital</td>\n",
              "      <td>2013.0</td>\n",
              "      <td>2013-12</td>\n",
              "    </tr>\n",
              "    <tr>\n",
              "      <th>...</th>\n",
              "      <td>...</td>\n",
              "      <td>...</td>\n",
              "      <td>...</td>\n",
              "      <td>...</td>\n",
              "      <td>...</td>\n",
              "      <td>...</td>\n",
              "      <td>...</td>\n",
              "      <td>...</td>\n",
              "      <td>...</td>\n",
              "    </tr>\n",
              "    <tr>\n",
              "      <th>4075</th>\n",
              "      <td>2017-08-20</td>\n",
              "      <td>Male</td>\n",
              "      <td>White</td>\n",
              "      <td>35.0</td>\n",
              "      <td>30-39</td>\n",
              "      <td>Residence</td>\n",
              "      <td>Hospital</td>\n",
              "      <td>2017.0</td>\n",
              "      <td>2017-08</td>\n",
              "    </tr>\n",
              "    <tr>\n",
              "      <th>4076</th>\n",
              "      <td>2017-07-24</td>\n",
              "      <td>Male</td>\n",
              "      <td>Hispanic, White</td>\n",
              "      <td>31.0</td>\n",
              "      <td>30-39</td>\n",
              "      <td>Automobile</td>\n",
              "      <td>Other</td>\n",
              "      <td>2017.0</td>\n",
              "      <td>2017-07</td>\n",
              "    </tr>\n",
              "    <tr>\n",
              "      <th>4078</th>\n",
              "      <td>2017-07-24</td>\n",
              "      <td>Male</td>\n",
              "      <td>Unknown</td>\n",
              "      <td>32.0</td>\n",
              "      <td>30-39</td>\n",
              "      <td>Residence</td>\n",
              "      <td>Hospital</td>\n",
              "      <td>2017.0</td>\n",
              "      <td>2017-07</td>\n",
              "    </tr>\n",
              "    <tr>\n",
              "      <th>4079</th>\n",
              "      <td>2017-11-17</td>\n",
              "      <td>Male</td>\n",
              "      <td>White</td>\n",
              "      <td>27.0</td>\n",
              "      <td>20-29</td>\n",
              "      <td>Residence</td>\n",
              "      <td>Residence</td>\n",
              "      <td>2017.0</td>\n",
              "      <td>2017-11</td>\n",
              "    </tr>\n",
              "    <tr>\n",
              "      <th>4080</th>\n",
              "      <td>2017-12-19</td>\n",
              "      <td>Female</td>\n",
              "      <td>White</td>\n",
              "      <td>24.0</td>\n",
              "      <td>20-29</td>\n",
              "      <td>Residence</td>\n",
              "      <td>Residence</td>\n",
              "      <td>2017.0</td>\n",
              "      <td>2017-12</td>\n",
              "    </tr>\n",
              "  </tbody>\n",
              "</table>\n",
              "<p>3615 rows × 9 columns</p>\n",
              "</div>\n",
              "      <button class=\"colab-df-convert\" onclick=\"convertToInteractive('df-e99e1f87-69f3-4475-99da-771acf565c31')\"\n",
              "              title=\"Convert this dataframe to an interactive table.\"\n",
              "              style=\"display:none;\">\n",
              "        \n",
              "  <svg xmlns=\"http://www.w3.org/2000/svg\" height=\"24px\"viewBox=\"0 0 24 24\"\n",
              "       width=\"24px\">\n",
              "    <path d=\"M0 0h24v24H0V0z\" fill=\"none\"/>\n",
              "    <path d=\"M18.56 5.44l.94 2.06.94-2.06 2.06-.94-2.06-.94-.94-2.06-.94 2.06-2.06.94zm-11 1L8.5 8.5l.94-2.06 2.06-.94-2.06-.94L8.5 2.5l-.94 2.06-2.06.94zm10 10l.94 2.06.94-2.06 2.06-.94-2.06-.94-.94-2.06-.94 2.06-2.06.94z\"/><path d=\"M17.41 7.96l-1.37-1.37c-.4-.4-.92-.59-1.43-.59-.52 0-1.04.2-1.43.59L10.3 9.45l-7.72 7.72c-.78.78-.78 2.05 0 2.83L4 21.41c.39.39.9.59 1.41.59.51 0 1.02-.2 1.41-.59l7.78-7.78 2.81-2.81c.8-.78.8-2.07 0-2.86zM5.41 20L4 18.59l7.72-7.72 1.47 1.35L5.41 20z\"/>\n",
              "  </svg>\n",
              "      </button>\n",
              "      \n",
              "  <style>\n",
              "    .colab-df-container {\n",
              "      display:flex;\n",
              "      flex-wrap:wrap;\n",
              "      gap: 12px;\n",
              "    }\n",
              "\n",
              "    .colab-df-convert {\n",
              "      background-color: #E8F0FE;\n",
              "      border: none;\n",
              "      border-radius: 50%;\n",
              "      cursor: pointer;\n",
              "      display: none;\n",
              "      fill: #1967D2;\n",
              "      height: 32px;\n",
              "      padding: 0 0 0 0;\n",
              "      width: 32px;\n",
              "    }\n",
              "\n",
              "    .colab-df-convert:hover {\n",
              "      background-color: #E2EBFA;\n",
              "      box-shadow: 0px 1px 2px rgba(60, 64, 67, 0.3), 0px 1px 3px 1px rgba(60, 64, 67, 0.15);\n",
              "      fill: #174EA6;\n",
              "    }\n",
              "\n",
              "    [theme=dark] .colab-df-convert {\n",
              "      background-color: #3B4455;\n",
              "      fill: #D2E3FC;\n",
              "    }\n",
              "\n",
              "    [theme=dark] .colab-df-convert:hover {\n",
              "      background-color: #434B5C;\n",
              "      box-shadow: 0px 1px 3px 1px rgba(0, 0, 0, 0.15);\n",
              "      filter: drop-shadow(0px 1px 2px rgba(0, 0, 0, 0.3));\n",
              "      fill: #FFFFFF;\n",
              "    }\n",
              "  </style>\n",
              "\n",
              "      <script>\n",
              "        const buttonEl =\n",
              "          document.querySelector('#df-e99e1f87-69f3-4475-99da-771acf565c31 button.colab-df-convert');\n",
              "        buttonEl.style.display =\n",
              "          google.colab.kernel.accessAllowed ? 'block' : 'none';\n",
              "\n",
              "        async function convertToInteractive(key) {\n",
              "          const element = document.querySelector('#df-e99e1f87-69f3-4475-99da-771acf565c31');\n",
              "          const dataTable =\n",
              "            await google.colab.kernel.invokeFunction('convertToInteractive',\n",
              "                                                     [key], {});\n",
              "          if (!dataTable) return;\n",
              "\n",
              "          const docLinkHtml = 'Like what you see? Visit the ' +\n",
              "            '<a target=\"_blank\" href=https://colab.research.google.com/notebooks/data_table.ipynb>data table notebook</a>'\n",
              "            + ' to learn more about interactive tables.';\n",
              "          element.innerHTML = '';\n",
              "          dataTable['output_type'] = 'display_data';\n",
              "          await google.colab.output.renderOutput(dataTable, element);\n",
              "          const docLink = document.createElement('div');\n",
              "          docLink.innerHTML = docLinkHtml;\n",
              "          element.appendChild(docLink);\n",
              "        }\n",
              "      </script>\n",
              "    </div>\n",
              "  </div>\n",
              "  "
            ]
          },
          "metadata": {},
          "execution_count": 473
        }
      ]
    },
    {
      "cell_type": "markdown",
      "source": [
        "Converting strings in the column of interest, \"Sex\" & \"InjuryPlace\" to numeric values"
      ],
      "metadata": {
        "id": "5jCITUWdgTwj"
      }
    },
    {
      "cell_type": "code",
      "source": [
        "DA.Sex[DA.Sex == 'Male'] = 1\n",
        "DA.Sex[DA.Sex == 'Female'] = 2\n",
        "\n",
        "DA.InjuryPlace[DA.InjuryPlace == 'Residence'] = 1\n",
        "DA.InjuryPlace[DA.InjuryPlace == 'Other'] = 2\n",
        "DA.InjuryPlace[DA.InjuryPlace == 'Automobile'] = 3\n",
        "DA.InjuryPlace[DA.InjuryPlace == 'Residential Building'] = 4\n",
        "DA.InjuryPlace[DA.InjuryPlace == 'Unknown'] = 5\n",
        "DA.InjuryPlace[DA.InjuryPlace == 'Hotel or Motel'] = 6\n",
        "DA.InjuryPlace[DA.InjuryPlace == 'Other indoor Area'] = 7\n",
        "DA.InjuryPlace[DA.InjuryPlace == 'Restaurant'] = 8\n",
        "DA.InjuryPlace[DA.InjuryPlace == 'Office Building'] = 9\n",
        "DA.InjuryPlace[DA.InjuryPlace == 'Store or Shopping Area'] = 10\n",
        "DA.InjuryPlace[DA.InjuryPlace == 'Other Public Buildings'] = 11\n",
        "\n",
        "\n",
        "DA.head()"
      ],
      "metadata": {
        "colab": {
          "base_uri": "https://localhost:8080/",
          "height": 1000
        },
        "id": "l_nyFRV3Sblg",
        "outputId": "cfe13a7e-29e1-4915-c1bb-c2949b0b35fd"
      },
      "execution_count": null,
      "outputs": [
        {
          "output_type": "stream",
          "name": "stderr",
          "text": [
            "/usr/local/lib/python3.7/dist-packages/ipykernel_launcher.py:1: SettingWithCopyWarning: \n",
            "A value is trying to be set on a copy of a slice from a DataFrame\n",
            "\n",
            "See the caveats in the documentation: https://pandas.pydata.org/pandas-docs/stable/user_guide/indexing.html#returning-a-view-versus-a-copy\n",
            "  \"\"\"Entry point for launching an IPython kernel.\n",
            "/usr/local/lib/python3.7/dist-packages/pandas/core/generic.py:8870: SettingWithCopyWarning: \n",
            "A value is trying to be set on a copy of a slice from a DataFrame\n",
            "\n",
            "See the caveats in the documentation: https://pandas.pydata.org/pandas-docs/stable/user_guide/indexing.html#returning-a-view-versus-a-copy\n",
            "  return self._update_inplace(result)\n",
            "/usr/local/lib/python3.7/dist-packages/ipykernel_launcher.py:2: SettingWithCopyWarning: \n",
            "A value is trying to be set on a copy of a slice from a DataFrame\n",
            "\n",
            "See the caveats in the documentation: https://pandas.pydata.org/pandas-docs/stable/user_guide/indexing.html#returning-a-view-versus-a-copy\n",
            "  \n",
            "/usr/local/lib/python3.7/dist-packages/ipykernel_launcher.py:4: SettingWithCopyWarning: \n",
            "A value is trying to be set on a copy of a slice from a DataFrame\n",
            "\n",
            "See the caveats in the documentation: https://pandas.pydata.org/pandas-docs/stable/user_guide/indexing.html#returning-a-view-versus-a-copy\n",
            "  after removing the cwd from sys.path.\n",
            "/usr/local/lib/python3.7/dist-packages/ipykernel_launcher.py:5: SettingWithCopyWarning: \n",
            "A value is trying to be set on a copy of a slice from a DataFrame\n",
            "\n",
            "See the caveats in the documentation: https://pandas.pydata.org/pandas-docs/stable/user_guide/indexing.html#returning-a-view-versus-a-copy\n",
            "  \"\"\"\n",
            "/usr/local/lib/python3.7/dist-packages/ipykernel_launcher.py:6: SettingWithCopyWarning: \n",
            "A value is trying to be set on a copy of a slice from a DataFrame\n",
            "\n",
            "See the caveats in the documentation: https://pandas.pydata.org/pandas-docs/stable/user_guide/indexing.html#returning-a-view-versus-a-copy\n",
            "  \n",
            "/usr/local/lib/python3.7/dist-packages/ipykernel_launcher.py:7: SettingWithCopyWarning: \n",
            "A value is trying to be set on a copy of a slice from a DataFrame\n",
            "\n",
            "See the caveats in the documentation: https://pandas.pydata.org/pandas-docs/stable/user_guide/indexing.html#returning-a-view-versus-a-copy\n",
            "  import sys\n",
            "/usr/local/lib/python3.7/dist-packages/ipykernel_launcher.py:8: SettingWithCopyWarning: \n",
            "A value is trying to be set on a copy of a slice from a DataFrame\n",
            "\n",
            "See the caveats in the documentation: https://pandas.pydata.org/pandas-docs/stable/user_guide/indexing.html#returning-a-view-versus-a-copy\n",
            "  \n",
            "/usr/local/lib/python3.7/dist-packages/ipykernel_launcher.py:9: SettingWithCopyWarning: \n",
            "A value is trying to be set on a copy of a slice from a DataFrame\n",
            "\n",
            "See the caveats in the documentation: https://pandas.pydata.org/pandas-docs/stable/user_guide/indexing.html#returning-a-view-versus-a-copy\n",
            "  if __name__ == '__main__':\n",
            "/usr/local/lib/python3.7/dist-packages/ipykernel_launcher.py:10: SettingWithCopyWarning: \n",
            "A value is trying to be set on a copy of a slice from a DataFrame\n",
            "\n",
            "See the caveats in the documentation: https://pandas.pydata.org/pandas-docs/stable/user_guide/indexing.html#returning-a-view-versus-a-copy\n",
            "  # Remove the CWD from sys.path while we load stuff.\n",
            "/usr/local/lib/python3.7/dist-packages/ipykernel_launcher.py:11: SettingWithCopyWarning: \n",
            "A value is trying to be set on a copy of a slice from a DataFrame\n",
            "\n",
            "See the caveats in the documentation: https://pandas.pydata.org/pandas-docs/stable/user_guide/indexing.html#returning-a-view-versus-a-copy\n",
            "  # This is added back by InteractiveShellApp.init_path()\n",
            "/usr/local/lib/python3.7/dist-packages/ipykernel_launcher.py:12: SettingWithCopyWarning: \n",
            "A value is trying to be set on a copy of a slice from a DataFrame\n",
            "\n",
            "See the caveats in the documentation: https://pandas.pydata.org/pandas-docs/stable/user_guide/indexing.html#returning-a-view-versus-a-copy\n",
            "  if sys.path[0] == '':\n",
            "/usr/local/lib/python3.7/dist-packages/ipykernel_launcher.py:13: SettingWithCopyWarning: \n",
            "A value is trying to be set on a copy of a slice from a DataFrame\n",
            "\n",
            "See the caveats in the documentation: https://pandas.pydata.org/pandas-docs/stable/user_guide/indexing.html#returning-a-view-versus-a-copy\n",
            "  del sys.path[0]\n",
            "/usr/local/lib/python3.7/dist-packages/ipykernel_launcher.py:14: SettingWithCopyWarning: \n",
            "A value is trying to be set on a copy of a slice from a DataFrame\n",
            "\n",
            "See the caveats in the documentation: https://pandas.pydata.org/pandas-docs/stable/user_guide/indexing.html#returning-a-view-versus-a-copy\n",
            "  \n"
          ]
        },
        {
          "output_type": "execute_result",
          "data": {
            "text/plain": [
              "        Date Sex   Race   Age Age Group InjuryPlace   Location    Year  \\\n",
              "1 2012-12-29   1  White  30.0     20-29           1   Hospital  2012.0   \n",
              "2 2014-02-18   1  White  43.0     40-49           1  Residence  2014.0   \n",
              "3 2014-09-07   2  White  24.0     20-29           1  Residence  2014.0   \n",
              "4 2013-10-04   2  White  26.0     20-29           4      Other  2013.0   \n",
              "5 2013-12-10   2  White  45.0     40-49           1   Hospital  2013.0   \n",
              "\n",
              "  Year_month  \n",
              "1    2012-12  \n",
              "2    2014-02  \n",
              "3    2014-09  \n",
              "4    2013-10  \n",
              "5    2013-12  "
            ],
            "text/html": [
              "\n",
              "  <div id=\"df-8641eaa6-5ab8-4b25-b576-362a41989ab8\">\n",
              "    <div class=\"colab-df-container\">\n",
              "      <div>\n",
              "<style scoped>\n",
              "    .dataframe tbody tr th:only-of-type {\n",
              "        vertical-align: middle;\n",
              "    }\n",
              "\n",
              "    .dataframe tbody tr th {\n",
              "        vertical-align: top;\n",
              "    }\n",
              "\n",
              "    .dataframe thead th {\n",
              "        text-align: right;\n",
              "    }\n",
              "</style>\n",
              "<table border=\"1\" class=\"dataframe\">\n",
              "  <thead>\n",
              "    <tr style=\"text-align: right;\">\n",
              "      <th></th>\n",
              "      <th>Date</th>\n",
              "      <th>Sex</th>\n",
              "      <th>Race</th>\n",
              "      <th>Age</th>\n",
              "      <th>Age Group</th>\n",
              "      <th>InjuryPlace</th>\n",
              "      <th>Location</th>\n",
              "      <th>Year</th>\n",
              "      <th>Year_month</th>\n",
              "    </tr>\n",
              "  </thead>\n",
              "  <tbody>\n",
              "    <tr>\n",
              "      <th>1</th>\n",
              "      <td>2012-12-29</td>\n",
              "      <td>1</td>\n",
              "      <td>White</td>\n",
              "      <td>30.0</td>\n",
              "      <td>20-29</td>\n",
              "      <td>1</td>\n",
              "      <td>Hospital</td>\n",
              "      <td>2012.0</td>\n",
              "      <td>2012-12</td>\n",
              "    </tr>\n",
              "    <tr>\n",
              "      <th>2</th>\n",
              "      <td>2014-02-18</td>\n",
              "      <td>1</td>\n",
              "      <td>White</td>\n",
              "      <td>43.0</td>\n",
              "      <td>40-49</td>\n",
              "      <td>1</td>\n",
              "      <td>Residence</td>\n",
              "      <td>2014.0</td>\n",
              "      <td>2014-02</td>\n",
              "    </tr>\n",
              "    <tr>\n",
              "      <th>3</th>\n",
              "      <td>2014-09-07</td>\n",
              "      <td>2</td>\n",
              "      <td>White</td>\n",
              "      <td>24.0</td>\n",
              "      <td>20-29</td>\n",
              "      <td>1</td>\n",
              "      <td>Residence</td>\n",
              "      <td>2014.0</td>\n",
              "      <td>2014-09</td>\n",
              "    </tr>\n",
              "    <tr>\n",
              "      <th>4</th>\n",
              "      <td>2013-10-04</td>\n",
              "      <td>2</td>\n",
              "      <td>White</td>\n",
              "      <td>26.0</td>\n",
              "      <td>20-29</td>\n",
              "      <td>4</td>\n",
              "      <td>Other</td>\n",
              "      <td>2013.0</td>\n",
              "      <td>2013-10</td>\n",
              "    </tr>\n",
              "    <tr>\n",
              "      <th>5</th>\n",
              "      <td>2013-12-10</td>\n",
              "      <td>2</td>\n",
              "      <td>White</td>\n",
              "      <td>45.0</td>\n",
              "      <td>40-49</td>\n",
              "      <td>1</td>\n",
              "      <td>Hospital</td>\n",
              "      <td>2013.0</td>\n",
              "      <td>2013-12</td>\n",
              "    </tr>\n",
              "  </tbody>\n",
              "</table>\n",
              "</div>\n",
              "      <button class=\"colab-df-convert\" onclick=\"convertToInteractive('df-8641eaa6-5ab8-4b25-b576-362a41989ab8')\"\n",
              "              title=\"Convert this dataframe to an interactive table.\"\n",
              "              style=\"display:none;\">\n",
              "        \n",
              "  <svg xmlns=\"http://www.w3.org/2000/svg\" height=\"24px\"viewBox=\"0 0 24 24\"\n",
              "       width=\"24px\">\n",
              "    <path d=\"M0 0h24v24H0V0z\" fill=\"none\"/>\n",
              "    <path d=\"M18.56 5.44l.94 2.06.94-2.06 2.06-.94-2.06-.94-.94-2.06-.94 2.06-2.06.94zm-11 1L8.5 8.5l.94-2.06 2.06-.94-2.06-.94L8.5 2.5l-.94 2.06-2.06.94zm10 10l.94 2.06.94-2.06 2.06-.94-2.06-.94-.94-2.06-.94 2.06-2.06.94z\"/><path d=\"M17.41 7.96l-1.37-1.37c-.4-.4-.92-.59-1.43-.59-.52 0-1.04.2-1.43.59L10.3 9.45l-7.72 7.72c-.78.78-.78 2.05 0 2.83L4 21.41c.39.39.9.59 1.41.59.51 0 1.02-.2 1.41-.59l7.78-7.78 2.81-2.81c.8-.78.8-2.07 0-2.86zM5.41 20L4 18.59l7.72-7.72 1.47 1.35L5.41 20z\"/>\n",
              "  </svg>\n",
              "      </button>\n",
              "      \n",
              "  <style>\n",
              "    .colab-df-container {\n",
              "      display:flex;\n",
              "      flex-wrap:wrap;\n",
              "      gap: 12px;\n",
              "    }\n",
              "\n",
              "    .colab-df-convert {\n",
              "      background-color: #E8F0FE;\n",
              "      border: none;\n",
              "      border-radius: 50%;\n",
              "      cursor: pointer;\n",
              "      display: none;\n",
              "      fill: #1967D2;\n",
              "      height: 32px;\n",
              "      padding: 0 0 0 0;\n",
              "      width: 32px;\n",
              "    }\n",
              "\n",
              "    .colab-df-convert:hover {\n",
              "      background-color: #E2EBFA;\n",
              "      box-shadow: 0px 1px 2px rgba(60, 64, 67, 0.3), 0px 1px 3px 1px rgba(60, 64, 67, 0.15);\n",
              "      fill: #174EA6;\n",
              "    }\n",
              "\n",
              "    [theme=dark] .colab-df-convert {\n",
              "      background-color: #3B4455;\n",
              "      fill: #D2E3FC;\n",
              "    }\n",
              "\n",
              "    [theme=dark] .colab-df-convert:hover {\n",
              "      background-color: #434B5C;\n",
              "      box-shadow: 0px 1px 3px 1px rgba(0, 0, 0, 0.15);\n",
              "      filter: drop-shadow(0px 1px 2px rgba(0, 0, 0, 0.3));\n",
              "      fill: #FFFFFF;\n",
              "    }\n",
              "  </style>\n",
              "\n",
              "      <script>\n",
              "        const buttonEl =\n",
              "          document.querySelector('#df-8641eaa6-5ab8-4b25-b576-362a41989ab8 button.colab-df-convert');\n",
              "        buttonEl.style.display =\n",
              "          google.colab.kernel.accessAllowed ? 'block' : 'none';\n",
              "\n",
              "        async function convertToInteractive(key) {\n",
              "          const element = document.querySelector('#df-8641eaa6-5ab8-4b25-b576-362a41989ab8');\n",
              "          const dataTable =\n",
              "            await google.colab.kernel.invokeFunction('convertToInteractive',\n",
              "                                                     [key], {});\n",
              "          if (!dataTable) return;\n",
              "\n",
              "          const docLinkHtml = 'Like what you see? Visit the ' +\n",
              "            '<a target=\"_blank\" href=https://colab.research.google.com/notebooks/data_table.ipynb>data table notebook</a>'\n",
              "            + ' to learn more about interactive tables.';\n",
              "          element.innerHTML = '';\n",
              "          dataTable['output_type'] = 'display_data';\n",
              "          await google.colab.output.renderOutput(dataTable, element);\n",
              "          const docLink = document.createElement('div');\n",
              "          docLink.innerHTML = docLinkHtml;\n",
              "          element.appendChild(docLink);\n",
              "        }\n",
              "      </script>\n",
              "    </div>\n",
              "  </div>\n",
              "  "
            ]
          },
          "metadata": {},
          "execution_count": 474
        }
      ]
    },
    {
      "cell_type": "code",
      "source": [
        "#Redifining the X axis after transformation\n",
        "X = DA[['Sex', 'Age', 'InjuryPlace']] .values\n",
        "\n",
        "X[0:5]"
      ],
      "metadata": {
        "colab": {
          "base_uri": "https://localhost:8080/"
        },
        "id": "SVFWL0njxleE",
        "outputId": "8986f82c-9cb4-454d-bfd0-33664703cabc"
      },
      "execution_count": null,
      "outputs": [
        {
          "output_type": "execute_result",
          "data": {
            "text/plain": [
              "array([[1, 30.0, 1],\n",
              "       [1, 43.0, 1],\n",
              "       [2, 24.0, 1],\n",
              "       [2, 26.0, 4],\n",
              "       [2, 45.0, 1]], dtype=object)"
            ]
          },
          "metadata": {},
          "execution_count": 475
        }
      ]
    },
    {
      "cell_type": "code",
      "source": [
        "#Defining the y axis\n",
        "y = DA['Location'].values\n",
        "y[0:5]"
      ],
      "metadata": {
        "colab": {
          "base_uri": "https://localhost:8080/"
        },
        "id": "0qEo0VGOeLUL",
        "outputId": "f2ad8c98-c652-491a-e16a-9b5d103fdb12"
      },
      "execution_count": null,
      "outputs": [
        {
          "output_type": "execute_result",
          "data": {
            "text/plain": [
              "array(['Hospital', 'Residence', 'Residence', 'Other', 'Hospital'],\n",
              "      dtype=object)"
            ]
          },
          "metadata": {},
          "execution_count": 476
        }
      ]
    },
    {
      "cell_type": "markdown",
      "source": [
        "Converting strings in the column of interest, \"Location\" to numeric values"
      ],
      "metadata": {
        "id": "5JZfOI2sUxgn"
      }
    },
    {
      "cell_type": "code",
      "source": [
        "#Itemizing the different location of death on the column \"Location\"\n",
        "dp = ['Residence', 'Other', 'Hospital']\n",
        "\n",
        "\n",
        "\n",
        "places = pd.DataFrame(dp, columns =['dp'])\n",
        "\n",
        "places"
      ],
      "metadata": {
        "colab": {
          "base_uri": "https://localhost:8080/",
          "height": 143
        },
        "id": "D2VU_a13FlGd",
        "outputId": "6f1749cf-167f-425a-fd3e-c0cf26d0c2d5"
      },
      "execution_count": null,
      "outputs": [
        {
          "output_type": "execute_result",
          "data": {
            "text/plain": [
              "          dp\n",
              "0  Residence\n",
              "1      Other\n",
              "2   Hospital"
            ],
            "text/html": [
              "\n",
              "  <div id=\"df-63433a53-16e9-400c-9e81-35c80253ea65\">\n",
              "    <div class=\"colab-df-container\">\n",
              "      <div>\n",
              "<style scoped>\n",
              "    .dataframe tbody tr th:only-of-type {\n",
              "        vertical-align: middle;\n",
              "    }\n",
              "\n",
              "    .dataframe tbody tr th {\n",
              "        vertical-align: top;\n",
              "    }\n",
              "\n",
              "    .dataframe thead th {\n",
              "        text-align: right;\n",
              "    }\n",
              "</style>\n",
              "<table border=\"1\" class=\"dataframe\">\n",
              "  <thead>\n",
              "    <tr style=\"text-align: right;\">\n",
              "      <th></th>\n",
              "      <th>dp</th>\n",
              "    </tr>\n",
              "  </thead>\n",
              "  <tbody>\n",
              "    <tr>\n",
              "      <th>0</th>\n",
              "      <td>Residence</td>\n",
              "    </tr>\n",
              "    <tr>\n",
              "      <th>1</th>\n",
              "      <td>Other</td>\n",
              "    </tr>\n",
              "    <tr>\n",
              "      <th>2</th>\n",
              "      <td>Hospital</td>\n",
              "    </tr>\n",
              "  </tbody>\n",
              "</table>\n",
              "</div>\n",
              "      <button class=\"colab-df-convert\" onclick=\"convertToInteractive('df-63433a53-16e9-400c-9e81-35c80253ea65')\"\n",
              "              title=\"Convert this dataframe to an interactive table.\"\n",
              "              style=\"display:none;\">\n",
              "        \n",
              "  <svg xmlns=\"http://www.w3.org/2000/svg\" height=\"24px\"viewBox=\"0 0 24 24\"\n",
              "       width=\"24px\">\n",
              "    <path d=\"M0 0h24v24H0V0z\" fill=\"none\"/>\n",
              "    <path d=\"M18.56 5.44l.94 2.06.94-2.06 2.06-.94-2.06-.94-.94-2.06-.94 2.06-2.06.94zm-11 1L8.5 8.5l.94-2.06 2.06-.94-2.06-.94L8.5 2.5l-.94 2.06-2.06.94zm10 10l.94 2.06.94-2.06 2.06-.94-2.06-.94-.94-2.06-.94 2.06-2.06.94z\"/><path d=\"M17.41 7.96l-1.37-1.37c-.4-.4-.92-.59-1.43-.59-.52 0-1.04.2-1.43.59L10.3 9.45l-7.72 7.72c-.78.78-.78 2.05 0 2.83L4 21.41c.39.39.9.59 1.41.59.51 0 1.02-.2 1.41-.59l7.78-7.78 2.81-2.81c.8-.78.8-2.07 0-2.86zM5.41 20L4 18.59l7.72-7.72 1.47 1.35L5.41 20z\"/>\n",
              "  </svg>\n",
              "      </button>\n",
              "      \n",
              "  <style>\n",
              "    .colab-df-container {\n",
              "      display:flex;\n",
              "      flex-wrap:wrap;\n",
              "      gap: 12px;\n",
              "    }\n",
              "\n",
              "    .colab-df-convert {\n",
              "      background-color: #E8F0FE;\n",
              "      border: none;\n",
              "      border-radius: 50%;\n",
              "      cursor: pointer;\n",
              "      display: none;\n",
              "      fill: #1967D2;\n",
              "      height: 32px;\n",
              "      padding: 0 0 0 0;\n",
              "      width: 32px;\n",
              "    }\n",
              "\n",
              "    .colab-df-convert:hover {\n",
              "      background-color: #E2EBFA;\n",
              "      box-shadow: 0px 1px 2px rgba(60, 64, 67, 0.3), 0px 1px 3px 1px rgba(60, 64, 67, 0.15);\n",
              "      fill: #174EA6;\n",
              "    }\n",
              "\n",
              "    [theme=dark] .colab-df-convert {\n",
              "      background-color: #3B4455;\n",
              "      fill: #D2E3FC;\n",
              "    }\n",
              "\n",
              "    [theme=dark] .colab-df-convert:hover {\n",
              "      background-color: #434B5C;\n",
              "      box-shadow: 0px 1px 3px 1px rgba(0, 0, 0, 0.15);\n",
              "      filter: drop-shadow(0px 1px 2px rgba(0, 0, 0, 0.3));\n",
              "      fill: #FFFFFF;\n",
              "    }\n",
              "  </style>\n",
              "\n",
              "      <script>\n",
              "        const buttonEl =\n",
              "          document.querySelector('#df-63433a53-16e9-400c-9e81-35c80253ea65 button.colab-df-convert');\n",
              "        buttonEl.style.display =\n",
              "          google.colab.kernel.accessAllowed ? 'block' : 'none';\n",
              "\n",
              "        async function convertToInteractive(key) {\n",
              "          const element = document.querySelector('#df-63433a53-16e9-400c-9e81-35c80253ea65');\n",
              "          const dataTable =\n",
              "            await google.colab.kernel.invokeFunction('convertToInteractive',\n",
              "                                                     [key], {});\n",
              "          if (!dataTable) return;\n",
              "\n",
              "          const docLinkHtml = 'Like what you see? Visit the ' +\n",
              "            '<a target=\"_blank\" href=https://colab.research.google.com/notebooks/data_table.ipynb>data table notebook</a>'\n",
              "            + ' to learn more about interactive tables.';\n",
              "          element.innerHTML = '';\n",
              "          dataTable['output_type'] = 'display_data';\n",
              "          await google.colab.output.renderOutput(dataTable, element);\n",
              "          const docLink = document.createElement('div');\n",
              "          docLink.innerHTML = docLinkHtml;\n",
              "          element.appendChild(docLink);\n",
              "        }\n",
              "      </script>\n",
              "    </div>\n",
              "  </div>\n",
              "  "
            ]
          },
          "metadata": {},
          "execution_count": 477
        }
      ]
    },
    {
      "cell_type": "code",
      "source": [
        "DA=DA[DA['Location'].isin(places['dp'])]"
      ],
      "metadata": {
        "id": "3hUQkEhJGEFz"
      },
      "execution_count": null,
      "outputs": []
    },
    {
      "cell_type": "code",
      "source": [
        "#Converting the \"Location\" values to numeric values\n",
        "DA.Location[DA.Location == 'Residence'] = 1\n",
        "DA.Location[DA.Location == 'Other'] = 2\n",
        "DA.Location[DA.Location == 'Hospital'] = 3\n",
        "DA.head()"
      ],
      "metadata": {
        "colab": {
          "base_uri": "https://localhost:8080/",
          "height": 553
        },
        "id": "55wPHWXLBRb3",
        "outputId": "81101d1f-05c1-40de-ac4d-3399571f6ee5"
      },
      "execution_count": null,
      "outputs": [
        {
          "output_type": "stream",
          "name": "stderr",
          "text": [
            "/usr/local/lib/python3.7/dist-packages/ipykernel_launcher.py:2: SettingWithCopyWarning: \n",
            "A value is trying to be set on a copy of a slice from a DataFrame\n",
            "\n",
            "See the caveats in the documentation: https://pandas.pydata.org/pandas-docs/stable/user_guide/indexing.html#returning-a-view-versus-a-copy\n",
            "  \n",
            "/usr/local/lib/python3.7/dist-packages/pandas/core/generic.py:8870: SettingWithCopyWarning: \n",
            "A value is trying to be set on a copy of a slice from a DataFrame\n",
            "\n",
            "See the caveats in the documentation: https://pandas.pydata.org/pandas-docs/stable/user_guide/indexing.html#returning-a-view-versus-a-copy\n",
            "  return self._update_inplace(result)\n",
            "/usr/local/lib/python3.7/dist-packages/ipykernel_launcher.py:3: SettingWithCopyWarning: \n",
            "A value is trying to be set on a copy of a slice from a DataFrame\n",
            "\n",
            "See the caveats in the documentation: https://pandas.pydata.org/pandas-docs/stable/user_guide/indexing.html#returning-a-view-versus-a-copy\n",
            "  This is separate from the ipykernel package so we can avoid doing imports until\n",
            "/usr/local/lib/python3.7/dist-packages/ipykernel_launcher.py:4: SettingWithCopyWarning: \n",
            "A value is trying to be set on a copy of a slice from a DataFrame\n",
            "\n",
            "See the caveats in the documentation: https://pandas.pydata.org/pandas-docs/stable/user_guide/indexing.html#returning-a-view-versus-a-copy\n",
            "  after removing the cwd from sys.path.\n"
          ]
        },
        {
          "output_type": "execute_result",
          "data": {
            "text/plain": [
              "        Date Sex   Race   Age Age Group InjuryPlace Location    Year  \\\n",
              "1 2012-12-29   1  White  30.0     20-29           1        3  2012.0   \n",
              "2 2014-02-18   1  White  43.0     40-49           1        1  2014.0   \n",
              "3 2014-09-07   2  White  24.0     20-29           1        1  2014.0   \n",
              "4 2013-10-04   2  White  26.0     20-29           4        2  2013.0   \n",
              "5 2013-12-10   2  White  45.0     40-49           1        3  2013.0   \n",
              "\n",
              "  Year_month  \n",
              "1    2012-12  \n",
              "2    2014-02  \n",
              "3    2014-09  \n",
              "4    2013-10  \n",
              "5    2013-12  "
            ],
            "text/html": [
              "\n",
              "  <div id=\"df-019c1798-1287-4231-9d1b-a8602d7eac14\">\n",
              "    <div class=\"colab-df-container\">\n",
              "      <div>\n",
              "<style scoped>\n",
              "    .dataframe tbody tr th:only-of-type {\n",
              "        vertical-align: middle;\n",
              "    }\n",
              "\n",
              "    .dataframe tbody tr th {\n",
              "        vertical-align: top;\n",
              "    }\n",
              "\n",
              "    .dataframe thead th {\n",
              "        text-align: right;\n",
              "    }\n",
              "</style>\n",
              "<table border=\"1\" class=\"dataframe\">\n",
              "  <thead>\n",
              "    <tr style=\"text-align: right;\">\n",
              "      <th></th>\n",
              "      <th>Date</th>\n",
              "      <th>Sex</th>\n",
              "      <th>Race</th>\n",
              "      <th>Age</th>\n",
              "      <th>Age Group</th>\n",
              "      <th>InjuryPlace</th>\n",
              "      <th>Location</th>\n",
              "      <th>Year</th>\n",
              "      <th>Year_month</th>\n",
              "    </tr>\n",
              "  </thead>\n",
              "  <tbody>\n",
              "    <tr>\n",
              "      <th>1</th>\n",
              "      <td>2012-12-29</td>\n",
              "      <td>1</td>\n",
              "      <td>White</td>\n",
              "      <td>30.0</td>\n",
              "      <td>20-29</td>\n",
              "      <td>1</td>\n",
              "      <td>3</td>\n",
              "      <td>2012.0</td>\n",
              "      <td>2012-12</td>\n",
              "    </tr>\n",
              "    <tr>\n",
              "      <th>2</th>\n",
              "      <td>2014-02-18</td>\n",
              "      <td>1</td>\n",
              "      <td>White</td>\n",
              "      <td>43.0</td>\n",
              "      <td>40-49</td>\n",
              "      <td>1</td>\n",
              "      <td>1</td>\n",
              "      <td>2014.0</td>\n",
              "      <td>2014-02</td>\n",
              "    </tr>\n",
              "    <tr>\n",
              "      <th>3</th>\n",
              "      <td>2014-09-07</td>\n",
              "      <td>2</td>\n",
              "      <td>White</td>\n",
              "      <td>24.0</td>\n",
              "      <td>20-29</td>\n",
              "      <td>1</td>\n",
              "      <td>1</td>\n",
              "      <td>2014.0</td>\n",
              "      <td>2014-09</td>\n",
              "    </tr>\n",
              "    <tr>\n",
              "      <th>4</th>\n",
              "      <td>2013-10-04</td>\n",
              "      <td>2</td>\n",
              "      <td>White</td>\n",
              "      <td>26.0</td>\n",
              "      <td>20-29</td>\n",
              "      <td>4</td>\n",
              "      <td>2</td>\n",
              "      <td>2013.0</td>\n",
              "      <td>2013-10</td>\n",
              "    </tr>\n",
              "    <tr>\n",
              "      <th>5</th>\n",
              "      <td>2013-12-10</td>\n",
              "      <td>2</td>\n",
              "      <td>White</td>\n",
              "      <td>45.0</td>\n",
              "      <td>40-49</td>\n",
              "      <td>1</td>\n",
              "      <td>3</td>\n",
              "      <td>2013.0</td>\n",
              "      <td>2013-12</td>\n",
              "    </tr>\n",
              "  </tbody>\n",
              "</table>\n",
              "</div>\n",
              "      <button class=\"colab-df-convert\" onclick=\"convertToInteractive('df-019c1798-1287-4231-9d1b-a8602d7eac14')\"\n",
              "              title=\"Convert this dataframe to an interactive table.\"\n",
              "              style=\"display:none;\">\n",
              "        \n",
              "  <svg xmlns=\"http://www.w3.org/2000/svg\" height=\"24px\"viewBox=\"0 0 24 24\"\n",
              "       width=\"24px\">\n",
              "    <path d=\"M0 0h24v24H0V0z\" fill=\"none\"/>\n",
              "    <path d=\"M18.56 5.44l.94 2.06.94-2.06 2.06-.94-2.06-.94-.94-2.06-.94 2.06-2.06.94zm-11 1L8.5 8.5l.94-2.06 2.06-.94-2.06-.94L8.5 2.5l-.94 2.06-2.06.94zm10 10l.94 2.06.94-2.06 2.06-.94-2.06-.94-.94-2.06-.94 2.06-2.06.94z\"/><path d=\"M17.41 7.96l-1.37-1.37c-.4-.4-.92-.59-1.43-.59-.52 0-1.04.2-1.43.59L10.3 9.45l-7.72 7.72c-.78.78-.78 2.05 0 2.83L4 21.41c.39.39.9.59 1.41.59.51 0 1.02-.2 1.41-.59l7.78-7.78 2.81-2.81c.8-.78.8-2.07 0-2.86zM5.41 20L4 18.59l7.72-7.72 1.47 1.35L5.41 20z\"/>\n",
              "  </svg>\n",
              "      </button>\n",
              "      \n",
              "  <style>\n",
              "    .colab-df-container {\n",
              "      display:flex;\n",
              "      flex-wrap:wrap;\n",
              "      gap: 12px;\n",
              "    }\n",
              "\n",
              "    .colab-df-convert {\n",
              "      background-color: #E8F0FE;\n",
              "      border: none;\n",
              "      border-radius: 50%;\n",
              "      cursor: pointer;\n",
              "      display: none;\n",
              "      fill: #1967D2;\n",
              "      height: 32px;\n",
              "      padding: 0 0 0 0;\n",
              "      width: 32px;\n",
              "    }\n",
              "\n",
              "    .colab-df-convert:hover {\n",
              "      background-color: #E2EBFA;\n",
              "      box-shadow: 0px 1px 2px rgba(60, 64, 67, 0.3), 0px 1px 3px 1px rgba(60, 64, 67, 0.15);\n",
              "      fill: #174EA6;\n",
              "    }\n",
              "\n",
              "    [theme=dark] .colab-df-convert {\n",
              "      background-color: #3B4455;\n",
              "      fill: #D2E3FC;\n",
              "    }\n",
              "\n",
              "    [theme=dark] .colab-df-convert:hover {\n",
              "      background-color: #434B5C;\n",
              "      box-shadow: 0px 1px 3px 1px rgba(0, 0, 0, 0.15);\n",
              "      filter: drop-shadow(0px 1px 2px rgba(0, 0, 0, 0.3));\n",
              "      fill: #FFFFFF;\n",
              "    }\n",
              "  </style>\n",
              "\n",
              "      <script>\n",
              "        const buttonEl =\n",
              "          document.querySelector('#df-019c1798-1287-4231-9d1b-a8602d7eac14 button.colab-df-convert');\n",
              "        buttonEl.style.display =\n",
              "          google.colab.kernel.accessAllowed ? 'block' : 'none';\n",
              "\n",
              "        async function convertToInteractive(key) {\n",
              "          const element = document.querySelector('#df-019c1798-1287-4231-9d1b-a8602d7eac14');\n",
              "          const dataTable =\n",
              "            await google.colab.kernel.invokeFunction('convertToInteractive',\n",
              "                                                     [key], {});\n",
              "          if (!dataTable) return;\n",
              "\n",
              "          const docLinkHtml = 'Like what you see? Visit the ' +\n",
              "            '<a target=\"_blank\" href=https://colab.research.google.com/notebooks/data_table.ipynb>data table notebook</a>'\n",
              "            + ' to learn more about interactive tables.';\n",
              "          element.innerHTML = '';\n",
              "          dataTable['output_type'] = 'display_data';\n",
              "          await google.colab.output.renderOutput(dataTable, element);\n",
              "          const docLink = document.createElement('div');\n",
              "          docLink.innerHTML = docLinkHtml;\n",
              "          element.appendChild(docLink);\n",
              "        }\n",
              "      </script>\n",
              "    </div>\n",
              "  </div>\n",
              "  "
            ]
          },
          "metadata": {},
          "execution_count": 479
        }
      ]
    },
    {
      "cell_type": "code",
      "source": [
        "#convert the integers \"Sex\", \"InjuryPlace\" & \"Location\" to float so as to be consistent with the \"Age\":\n",
        "DA['Sex']=DA['Sex'].astype(float).values\n",
        "\n",
        "DA['Age']=DA['Age'].astype(float).values\n",
        "\n",
        "DA['InjuryPlace']=DA['InjuryPlace'].astype(float).values\n",
        "\n",
        "DA['Location']=DA['Location'].astype(float).values\n",
        "\n"
      ],
      "metadata": {
        "colab": {
          "base_uri": "https://localhost:8080/"
        },
        "id": "syquToNX-1np",
        "outputId": "8e7e28a3-5268-44ed-cca1-4a3400b07ddf"
      },
      "execution_count": null,
      "outputs": [
        {
          "output_type": "stream",
          "name": "stderr",
          "text": [
            "/usr/local/lib/python3.7/dist-packages/ipykernel_launcher.py:2: SettingWithCopyWarning: \n",
            "A value is trying to be set on a copy of a slice from a DataFrame.\n",
            "Try using .loc[row_indexer,col_indexer] = value instead\n",
            "\n",
            "See the caveats in the documentation: https://pandas.pydata.org/pandas-docs/stable/user_guide/indexing.html#returning-a-view-versus-a-copy\n",
            "  \n",
            "/usr/local/lib/python3.7/dist-packages/ipykernel_launcher.py:4: SettingWithCopyWarning: \n",
            "A value is trying to be set on a copy of a slice from a DataFrame.\n",
            "Try using .loc[row_indexer,col_indexer] = value instead\n",
            "\n",
            "See the caveats in the documentation: https://pandas.pydata.org/pandas-docs/stable/user_guide/indexing.html#returning-a-view-versus-a-copy\n",
            "  after removing the cwd from sys.path.\n",
            "/usr/local/lib/python3.7/dist-packages/ipykernel_launcher.py:6: SettingWithCopyWarning: \n",
            "A value is trying to be set on a copy of a slice from a DataFrame.\n",
            "Try using .loc[row_indexer,col_indexer] = value instead\n",
            "\n",
            "See the caveats in the documentation: https://pandas.pydata.org/pandas-docs/stable/user_guide/indexing.html#returning-a-view-versus-a-copy\n",
            "  \n",
            "/usr/local/lib/python3.7/dist-packages/ipykernel_launcher.py:8: SettingWithCopyWarning: \n",
            "A value is trying to be set on a copy of a slice from a DataFrame.\n",
            "Try using .loc[row_indexer,col_indexer] = value instead\n",
            "\n",
            "See the caveats in the documentation: https://pandas.pydata.org/pandas-docs/stable/user_guide/indexing.html#returning-a-view-versus-a-copy\n",
            "  \n"
          ]
        }
      ]
    },
    {
      "cell_type": "code",
      "source": [
        "\n",
        "X = DA[['Sex','Age', 'InjuryPlace']] .values\n",
        "\n",
        "X[0:5]"
      ],
      "metadata": {
        "colab": {
          "base_uri": "https://localhost:8080/"
        },
        "id": "5iJRoe_6SXTL",
        "outputId": "75af81de-7056-4b7f-a73b-69b67a7cdbb1"
      },
      "execution_count": null,
      "outputs": [
        {
          "output_type": "execute_result",
          "data": {
            "text/plain": [
              "array([[ 1., 30.,  1.],\n",
              "       [ 1., 43.,  1.],\n",
              "       [ 2., 24.,  1.],\n",
              "       [ 2., 26.,  4.],\n",
              "       [ 2., 45.,  1.]])"
            ]
          },
          "metadata": {},
          "execution_count": 481
        }
      ]
    },
    {
      "cell_type": "code",
      "source": [
        "\n",
        "\n",
        "X = DA[['Sex','Age', 'InjuryPlace']]\n"
      ],
      "metadata": {
        "id": "bYPS3itTAEBH"
      },
      "execution_count": null,
      "outputs": []
    },
    {
      "cell_type": "code",
      "source": [
        "y = DA[['Location']]"
      ],
      "metadata": {
        "id": "APzbrm08MJcK"
      },
      "execution_count": null,
      "outputs": []
    },
    {
      "cell_type": "code",
      "source": [
        "X.info()"
      ],
      "metadata": {
        "colab": {
          "base_uri": "https://localhost:8080/"
        },
        "id": "vf24j-Sx8Hqt",
        "outputId": "8c876137-0025-41e3-eef2-b7e9857fcede"
      },
      "execution_count": null,
      "outputs": [
        {
          "output_type": "stream",
          "name": "stdout",
          "text": [
            "<class 'pandas.core.frame.DataFrame'>\n",
            "Int64Index: 3613 entries, 1 to 4080\n",
            "Data columns (total 3 columns):\n",
            " #   Column       Non-Null Count  Dtype  \n",
            "---  ------       --------------  -----  \n",
            " 0   Sex          3613 non-null   float64\n",
            " 1   Age          3613 non-null   float64\n",
            " 2   InjuryPlace  3613 non-null   float64\n",
            "dtypes: float64(3)\n",
            "memory usage: 112.9 KB\n"
          ]
        }
      ]
    },
    {
      "cell_type": "code",
      "source": [
        "y.info()"
      ],
      "metadata": {
        "colab": {
          "base_uri": "https://localhost:8080/"
        },
        "id": "Bo7FxEqQMRHD",
        "outputId": "c4f37fdb-af6f-4fcc-be2b-a76bb1e347cb"
      },
      "execution_count": null,
      "outputs": [
        {
          "output_type": "stream",
          "name": "stdout",
          "text": [
            "<class 'pandas.core.frame.DataFrame'>\n",
            "Int64Index: 3613 entries, 1 to 4080\n",
            "Data columns (total 1 columns):\n",
            " #   Column    Non-Null Count  Dtype  \n",
            "---  ------    --------------  -----  \n",
            " 0   Location  3613 non-null   float64\n",
            "dtypes: float64(1)\n",
            "memory usage: 56.5 KB\n"
          ]
        }
      ]
    },
    {
      "cell_type": "markdown",
      "source": [
        "**Standardization of the data**"
      ],
      "metadata": {
        "id": "HSwF4_K-vKMB"
      }
    },
    {
      "cell_type": "code",
      "source": [
        "\n",
        "X=stats.zscore(X)\n"
      ],
      "metadata": {
        "id": "T-qXs1s0zevc"
      },
      "execution_count": null,
      "outputs": []
    },
    {
      "cell_type": "markdown",
      "source": [
        "## **** **Modelling**"
      ],
      "metadata": {
        "id": "9RlmMmNvrMSJ"
      }
    },
    {
      "cell_type": "markdown",
      "source": [
        "Train Test Split"
      ],
      "metadata": {
        "id": "H9rQz7i9WWy3"
      }
    },
    {
      "cell_type": "code",
      "source": [
        "from sklearn.model_selection import train_test_split\n",
        "X_train, X_test, y_train, y_test = train_test_split( X, y, test_size=0.2)\n",
        "print ('Train set:', X_train.shape,  y_train.shape)\n",
        "print ('Test set:', X_test.shape,  y_test.shape)"
      ],
      "metadata": {
        "colab": {
          "base_uri": "https://localhost:8080/"
        },
        "id": "RUJIkk7lYmWc",
        "outputId": "51659147-a32b-4670-8816-6a3f2c49647a"
      },
      "execution_count": null,
      "outputs": [
        {
          "output_type": "stream",
          "name": "stdout",
          "text": [
            "Train set: (2890, 3) (2890, 1)\n",
            "Test set: (723, 3) (723, 1)\n"
          ]
        }
      ]
    },
    {
      "cell_type": "markdown",
      "source": [
        "**Machine Learning; Using KNN Classification model based on the peculiarity of the dataset DA**"
      ],
      "metadata": {
        "id": "xCQmR-qZWgyv"
      }
    },
    {
      "cell_type": "markdown",
      "source": [
        "Training of the model"
      ],
      "metadata": {
        "id": "JK-GZaUIXgmU"
      }
    },
    {
      "cell_type": "code",
      "source": [
        "k = 4\n",
        "#Train Model and Predict\n",
        "neigh = KNeighborsClassifier(n_neighbors = k).fit(X_train,y_train)"
      ],
      "metadata": {
        "colab": {
          "base_uri": "https://localhost:8080/"
        },
        "id": "XTr0OdMld-Ed",
        "outputId": "8215c47a-0b4f-4b5b-afa7-f1e05595836e"
      },
      "execution_count": null,
      "outputs": [
        {
          "output_type": "stream",
          "name": "stderr",
          "text": [
            "/usr/local/lib/python3.7/dist-packages/sklearn/neighbors/_classification.py:198: DataConversionWarning: A column-vector y was passed when a 1d array was expected. Please change the shape of y to (n_samples,), for example using ravel().\n",
            "  return self._fit(X, y)\n"
          ]
        }
      ]
    },
    {
      "cell_type": "markdown",
      "source": [
        "Predicition of where abusers/misusers will likely die after an episode of intoxication.\n",
        "\n",
        "Having \"1\" as Residence\n",
        "        \"2\" as Other\n",
        "        \"3\" as Hospital"
      ],
      "metadata": {
        "id": "ZdtVcjCdXsSD"
      }
    },
    {
      "cell_type": "code",
      "source": [
        "yhat = neigh.predict(X_test)\n",
        "yhat [0:50]"
      ],
      "metadata": {
        "colab": {
          "base_uri": "https://localhost:8080/"
        },
        "id": "BQmH9zMKDEsp",
        "outputId": "eb5bcb14-ff05-48db-ac23-1c9909075775"
      },
      "execution_count": null,
      "outputs": [
        {
          "output_type": "execute_result",
          "data": {
            "text/plain": [
              "array([1., 2., 1., 1., 1., 2., 1., 3., 3., 1., 1., 1., 3., 2., 3., 1., 3.,\n",
              "       1., 1., 1., 1., 1., 1., 2., 3., 1., 1., 1., 1., 2., 1., 2., 3., 1.,\n",
              "       1., 2., 2., 1., 1., 1., 1., 2., 1., 3., 2., 1., 1., 1., 1., 1.])"
            ]
          },
          "metadata": {},
          "execution_count": 489
        }
      ]
    },
    {
      "cell_type": "code",
      "source": [
        "#Identifying the Unique outcomes of yhat\n",
        "x = np.array(yhat)\n",
        "print(np.unique(x))"
      ],
      "metadata": {
        "colab": {
          "base_uri": "https://localhost:8080/"
        },
        "id": "LioO1WTo5MzS",
        "outputId": "a9a0ef64-ae7a-43f4-8268-3f03b296aa52"
      },
      "execution_count": null,
      "outputs": [
        {
          "output_type": "stream",
          "name": "stdout",
          "text": [
            "[1. 2. 3.]\n"
          ]
        }
      ]
    },
    {
      "cell_type": "markdown",
      "source": [
        "Counting the number of intoxicated abusers/misusers that made it to the Hospital (3.0)"
      ],
      "metadata": {
        "id": "QBnw4GxXZf-q"
      }
    },
    {
      "cell_type": "code",
      "source": [
        "import collections\n",
        "collections.Counter(x)\n"
      ],
      "metadata": {
        "colab": {
          "base_uri": "https://localhost:8080/"
        },
        "id": "RQLAoKrFI1as",
        "outputId": "ea09729d-fdac-4c84-e8d4-648228767d2a"
      },
      "execution_count": null,
      "outputs": [
        {
          "output_type": "execute_result",
          "data": {
            "text/plain": [
              "Counter({1.0: 548, 2.0: 110, 3.0: 65})"
            ]
          },
          "metadata": {},
          "execution_count": 491
        }
      ]
    },
    {
      "cell_type": "code",
      "source": [
        "print(len(x))"
      ],
      "metadata": {
        "colab": {
          "base_uri": "https://localhost:8080/"
        },
        "id": "jsI8l1jCfEr8",
        "outputId": "18b54c6d-c96b-494f-ca16-65ef6426f78a"
      },
      "execution_count": null,
      "outputs": [
        {
          "output_type": "stream",
          "name": "stdout",
          "text": [
            "723\n"
          ]
        }
      ]
    },
    {
      "cell_type": "code",
      "source": [],
      "metadata": {
        "id": "A32OXXgEuLQA"
      },
      "execution_count": null,
      "outputs": []
    },
    {
      "cell_type": "markdown",
      "source": [
        "Accuracy of the Model Evaluation"
      ],
      "metadata": {
        "id": "vUiIzLtUaOPM"
      }
    },
    {
      "cell_type": "code",
      "source": [
        "from sklearn import metrics\n",
        "print(\"Test set Accuracy: \", metrics.accuracy_score(y_test, yhat))"
      ],
      "metadata": {
        "colab": {
          "base_uri": "https://localhost:8080/"
        },
        "id": "WuWpspEfLc-3",
        "outputId": "a00cbf41-cbe9-4b25-f4a8-e5bb5a85de2a"
      },
      "execution_count": null,
      "outputs": [
        {
          "output_type": "stream",
          "name": "stdout",
          "text": [
            "Test set Accuracy:  0.6459197786998617\n"
          ]
        }
      ]
    },
    {
      "cell_type": "code",
      "source": [
        "#Varying the value of K to confirm model accuracy\n",
        "Ks = 7\n",
        "mean_acc = np.zeros((Ks-1))\n",
        "for n in range(1,Ks):\n",
        "\n",
        "    #Train Model and Predict\n",
        "    neigh = KNeighborsClassifier(n_neighbors = n).fit(X_train,y_train)\n",
        "    yhat=neigh.predict(X_test)\n",
        "    mean_acc[n-1] = metrics.accuracy_score(y_test, yhat)\n",
        "\n",
        "\n",
        "mean_acc"
      ],
      "metadata": {
        "colab": {
          "base_uri": "https://localhost:8080/"
        },
        "id": "H_FI9NRhLjeG",
        "outputId": "c5917db8-a67c-4edf-8c3c-946d3d869dcd"
      },
      "execution_count": null,
      "outputs": [
        {
          "output_type": "stream",
          "name": "stderr",
          "text": [
            "/usr/local/lib/python3.7/dist-packages/sklearn/neighbors/_classification.py:198: DataConversionWarning: A column-vector y was passed when a 1d array was expected. Please change the shape of y to (n_samples,), for example using ravel().\n",
            "  return self._fit(X, y)\n",
            "/usr/local/lib/python3.7/dist-packages/sklearn/neighbors/_classification.py:198: DataConversionWarning: A column-vector y was passed when a 1d array was expected. Please change the shape of y to (n_samples,), for example using ravel().\n",
            "  return self._fit(X, y)\n",
            "/usr/local/lib/python3.7/dist-packages/sklearn/neighbors/_classification.py:198: DataConversionWarning: A column-vector y was passed when a 1d array was expected. Please change the shape of y to (n_samples,), for example using ravel().\n",
            "  return self._fit(X, y)\n",
            "/usr/local/lib/python3.7/dist-packages/sklearn/neighbors/_classification.py:198: DataConversionWarning: A column-vector y was passed when a 1d array was expected. Please change the shape of y to (n_samples,), for example using ravel().\n",
            "  return self._fit(X, y)\n",
            "/usr/local/lib/python3.7/dist-packages/sklearn/neighbors/_classification.py:198: DataConversionWarning: A column-vector y was passed when a 1d array was expected. Please change the shape of y to (n_samples,), for example using ravel().\n",
            "  return self._fit(X, y)\n",
            "/usr/local/lib/python3.7/dist-packages/sklearn/neighbors/_classification.py:198: DataConversionWarning: A column-vector y was passed when a 1d array was expected. Please change the shape of y to (n_samples,), for example using ravel().\n",
            "  return self._fit(X, y)\n"
          ]
        },
        {
          "output_type": "execute_result",
          "data": {
            "text/plain": [
              "array([0.51590595, 0.64315353, 0.61549101, 0.64591978, 0.62793914,\n",
              "       0.6417704 ])"
            ]
          },
          "metadata": {},
          "execution_count": 494
        }
      ]
    },
    {
      "cell_type": "code",
      "source": [
        "#Plotting an accuracy graph\n",
        "plt.plot(range(1,Ks),mean_acc,'g')\n",
        "plt.ylabel('Accuracy ')\n",
        "plt.xlabel('Value of K ')\n",
        "plt.tight_layout()\n",
        "plt.show()"
      ],
      "metadata": {
        "colab": {
          "base_uri": "https://localhost:8080/",
          "height": 297
        },
        "id": "14fY4FxALrRq",
        "outputId": "be81cf2c-28e1-45ef-b310-99a8aa137dec"
      },
      "execution_count": null,
      "outputs": [
        {
          "output_type": "display_data",
          "data": {
            "text/plain": [
              "<Figure size 432x288 with 1 Axes>"
            ],
            "image/png": "[encoded data removed]"
          },
          "metadata": {
            "needs_background": "light"
          }
        }
      ]
    },
    {
      "cell_type": "markdown",
      "source": [
        "**Machine Learning; Using Decision Tree Classification model as an alternative to validate prediction**"
      ],
      "metadata": {
        "id": "2rMechzVjtat"
      }
    },
    {
      "cell_type": "code",
      "source": [
        "#Filling the target variable\n",
        "y = DA[\"Location\"]\n",
        "y[0:5]"
      ],
      "metadata": {
        "colab": {
          "base_uri": "https://localhost:8080/"
        },
        "id": "MI7-Ksh-j2KI",
        "outputId": "aca9ffa8-6337-4cce-d51d-7e57b5be57a5"
      },
      "execution_count": null,
      "outputs": [
        {
          "output_type": "execute_result",
          "data": {
            "text/plain": [
              "1    3.0\n",
              "2    1.0\n",
              "3    1.0\n",
              "4    2.0\n",
              "5    3.0\n",
              "Name: Location, dtype: float64"
            ]
          },
          "metadata": {},
          "execution_count": 496
        }
      ]
    },
    {
      "cell_type": "markdown",
      "source": [
        "Setting up DecisionTree"
      ],
      "metadata": {
        "id": "GJdu9ZdEka5o"
      }
    },
    {
      "cell_type": "code",
      "source": [
        "X_trainset, X_testset, y_trainset, y_testset = train_test_split(X, y, test_size=0.3)"
      ],
      "metadata": {
        "id": "djBrvk0BkYSN"
      },
      "execution_count": null,
      "outputs": []
    },
    {
      "cell_type": "markdown",
      "source": [
        "## Modeling of the Decision Tree\n",
        " <b>DecisionTreeClassifier</b> called <b>Hx</b>.<br> was first created\n"
      ],
      "metadata": {
        "id": "hRUpgnOpk3t9"
      }
    },
    {
      "cell_type": "code",
      "source": [
        "from sklearn.tree import DecisionTreeClassifier"
      ],
      "metadata": {
        "id": "QuavHtommItW"
      },
      "execution_count": null,
      "outputs": []
    },
    {
      "cell_type": "code",
      "source": [
        "Hx = DecisionTreeClassifier(criterion=\"entropy\", max_depth = 4)"
      ],
      "metadata": {
        "id": "RDedZj6yk23S"
      },
      "execution_count": null,
      "outputs": []
    },
    {
      "cell_type": "code",
      "source": [
        "#Fitting the data with the training feature matrix X_trainset and training response vector y_trainset\n",
        "Hx.fit(X_trainset,y_trainset)"
      ],
      "metadata": {
        "colab": {
          "base_uri": "https://localhost:8080/"
        },
        "id": "ZrL9vmxWmlDo",
        "outputId": "77667fa3-ac89-4b76-fa94-72ad787791d9"
      },
      "execution_count": null,
      "outputs": [
        {
          "output_type": "execute_result",
          "data": {
            "text/plain": [
              "DecisionTreeClassifier(criterion='entropy', max_depth=4)"
            ]
          },
          "metadata": {},
          "execution_count": 500
        }
      ]
    },
    {
      "cell_type": "markdown",
      "source": [
        "Prediction"
      ],
      "metadata": {
        "id": "dx0CvJvVdwq1"
      }
    },
    {
      "cell_type": "code",
      "source": [
        "predTree = Hx.predict(X_testset)\n",
        "predTree [0:5]"
      ],
      "metadata": {
        "colab": {
          "base_uri": "https://localhost:8080/"
        },
        "id": "T1WqPtV5nVtP",
        "outputId": "de0e10d1-f56e-4db2-d3e8-b1c75b2278ba"
      },
      "execution_count": null,
      "outputs": [
        {
          "output_type": "execute_result",
          "data": {
            "text/plain": [
              "array([1., 2., 1., 1., 2.])"
            ]
          },
          "metadata": {},
          "execution_count": 501
        }
      ]
    },
    {
      "cell_type": "code",
      "source": [
        "\n",
        "collections.Counter(predTree)"
      ],
      "metadata": {
        "colab": {
          "base_uri": "https://localhost:8080/"
        },
        "id": "aV6bWfSXfM06",
        "outputId": "16d719d8-28d6-4313-ace7-16574566ce26"
      },
      "execution_count": null,
      "outputs": [
        {
          "output_type": "execute_result",
          "data": {
            "text/plain": [
              "Counter({1.0: 847, 2.0: 198, 3.0: 39})"
            ]
          },
          "metadata": {},
          "execution_count": 502
        }
      ]
    },
    {
      "cell_type": "markdown",
      "source": [
        "Accuracy Evaluation"
      ],
      "metadata": {
        "id": "ihm3Z41QdyZy"
      }
    },
    {
      "cell_type": "code",
      "source": [
        "from sklearn import metrics\n",
        "print(\"DecisionTrees's Accuracy: \", metrics.accuracy_score(y_testset, predTree))"
      ],
      "metadata": {
        "colab": {
          "base_uri": "https://localhost:8080/"
        },
        "id": "JC4XomUWndbc",
        "outputId": "f2ea63f9-76dc-48e3-b97c-5a0f08169eb8"
      },
      "execution_count": null,
      "outputs": [
        {
          "output_type": "stream",
          "name": "stdout",
          "text": [
            "DecisionTrees's Accuracy:  0.6826568265682657\n"
          ]
        }
      ]
    }
  ]
}